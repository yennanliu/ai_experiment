{
 "cells": [
  {
   "cell_type": "code",
   "execution_count": 23,
   "metadata": {},
   "outputs": [],
   "source": [
    "#------------------------------------------------------------------------\n",
    "# Ref \n",
    "#------------------------------------------------------------------------\n",
    "\n",
    "# https://sites.google.com/view/zsgititit/home/ji-qi-xue-xi/%E4%BD%BF%E7%94%A8python%E7%B6%93%E7%94%B1chatgpt-api%E9%80%B2%E8%A1%8C%E5%95%8F%E7%AD%94\n",
    "\n",
    "# https://platform.openai.com/api-keys\n",
    "\n",
    "# https://learn.deeplearning.ai/chatgpt-prompt-eng/lesson/4/summarizing\n"
   ]
  },
  {
   "cell_type": "code",
   "execution_count": null,
   "metadata": {},
   "outputs": [],
   "source": []
  },
  {
   "cell_type": "code",
   "execution_count": 2,
   "metadata": {
    "scrolled": true
   },
   "outputs": [
    {
     "name": "stdout",
     "output_type": "stream",
     "text": [
      "Requirement already satisfied: openai in /opt/anaconda3/lib/python3.7/site-packages (1.7.1)\n",
      "Requirement already satisfied: typing-extensions<5,>=4.7 in /opt/anaconda3/lib/python3.7/site-packages (from openai) (4.7.1)\n",
      "Requirement already satisfied: httpx<1,>=0.23.0 in /opt/anaconda3/lib/python3.7/site-packages (from openai) (0.24.1)\n",
      "Requirement already satisfied: pydantic<3,>=1.9.0 in /opt/anaconda3/lib/python3.7/site-packages (from openai) (2.5.3)\n",
      "Requirement already satisfied: distro<2,>=1.7.0 in /opt/anaconda3/lib/python3.7/site-packages (from openai) (1.9.0)\n",
      "Requirement already satisfied: anyio<5,>=3.5.0 in /opt/anaconda3/lib/python3.7/site-packages (from openai) (3.7.1)\n",
      "Requirement already satisfied: sniffio in /opt/anaconda3/lib/python3.7/site-packages (from openai) (1.3.0)\n",
      "Requirement already satisfied: tqdm>4 in /opt/anaconda3/lib/python3.7/site-packages (from openai) (4.42.1)\n",
      "Requirement already satisfied: cached-property; python_version < \"3.8\" in /opt/anaconda3/lib/python3.7/site-packages (from openai) (1.5.2)\n",
      "Requirement already satisfied: certifi in /opt/anaconda3/lib/python3.7/site-packages (from httpx<1,>=0.23.0->openai) (2019.11.28)\n",
      "Requirement already satisfied: idna in /opt/anaconda3/lib/python3.7/site-packages (from httpx<1,>=0.23.0->openai) (2.8)\n",
      "Requirement already satisfied: httpcore<0.18.0,>=0.15.0 in /opt/anaconda3/lib/python3.7/site-packages (from httpx<1,>=0.23.0->openai) (0.17.3)\n",
      "Requirement already satisfied: pydantic-core==2.14.6 in /opt/anaconda3/lib/python3.7/site-packages (from pydantic<3,>=1.9.0->openai) (2.14.6)\n",
      "Requirement already satisfied: importlib-metadata; python_version == \"3.7\" in /opt/anaconda3/lib/python3.7/site-packages (from pydantic<3,>=1.9.0->openai) (1.5.0)\n",
      "Requirement already satisfied: annotated-types>=0.4.0 in /opt/anaconda3/lib/python3.7/site-packages (from pydantic<3,>=1.9.0->openai) (0.5.0)\n",
      "Requirement already satisfied: exceptiongroup; python_version < \"3.11\" in /opt/anaconda3/lib/python3.7/site-packages (from anyio<5,>=3.5.0->openai) (1.2.0)\n",
      "Requirement already satisfied: h11<0.15,>=0.13 in /opt/anaconda3/lib/python3.7/site-packages (from httpcore<0.18.0,>=0.15.0->httpx<1,>=0.23.0->openai) (0.14.0)\n",
      "Requirement already satisfied: zipp>=0.5 in /opt/anaconda3/lib/python3.7/site-packages (from importlib-metadata; python_version == \"3.7\"->pydantic<3,>=1.9.0->openai) (2.2.0)\n"
     ]
    }
   ],
   "source": [
    "!pip install openai"
   ]
  },
  {
   "cell_type": "code",
   "execution_count": 25,
   "metadata": {
    "scrolled": true
   },
   "outputs": [
    {
     "name": "stdout",
     "output_type": "stream",
     "text": [
      "Collecting dotenv\n",
      "  Downloading dotenv-0.0.5.tar.gz (2.4 kB)\n",
      "\u001b[31m    ERROR: Command errored out with exit status 1:\n",
      "     command: /opt/anaconda3/bin/python -c 'import sys, setuptools, tokenize; sys.argv[0] = '\"'\"'/private/var/folders/51/3j6n8rwd74g2tsjt5jhcy91w0000gn/T/pip-install-u41aaj9_/dotenv/setup.py'\"'\"'; __file__='\"'\"'/private/var/folders/51/3j6n8rwd74g2tsjt5jhcy91w0000gn/T/pip-install-u41aaj9_/dotenv/setup.py'\"'\"';f=getattr(tokenize, '\"'\"'open'\"'\"', open)(__file__);code=f.read().replace('\"'\"'\\r\\n'\"'\"', '\"'\"'\\n'\"'\"');f.close();exec(compile(code, __file__, '\"'\"'exec'\"'\"'))' egg_info --egg-base /private/var/folders/51/3j6n8rwd74g2tsjt5jhcy91w0000gn/T/pip-install-u41aaj9_/dotenv/pip-egg-info\n",
      "         cwd: /private/var/folders/51/3j6n8rwd74g2tsjt5jhcy91w0000gn/T/pip-install-u41aaj9_/dotenv/\n",
      "    Complete output (51 lines):\n",
      "        ERROR: Command errored out with exit status 1:\n",
      "         command: /opt/anaconda3/bin/python -c 'import sys, setuptools, tokenize; sys.argv[0] = '\"'\"'/private/var/folders/51/3j6n8rwd74g2tsjt5jhcy91w0000gn/T/pip-wheel-5pj8an_2/distribute/setup.py'\"'\"'; __file__='\"'\"'/private/var/folders/51/3j6n8rwd74g2tsjt5jhcy91w0000gn/T/pip-wheel-5pj8an_2/distribute/setup.py'\"'\"';f=getattr(tokenize, '\"'\"'open'\"'\"', open)(__file__);code=f.read().replace('\"'\"'\\r\\n'\"'\"', '\"'\"'\\n'\"'\"');f.close();exec(compile(code, __file__, '\"'\"'exec'\"'\"'))' egg_info --egg-base /private/var/folders/51/3j6n8rwd74g2tsjt5jhcy91w0000gn/T/pip-wheel-5pj8an_2/distribute/pip-egg-info\n",
      "             cwd: /private/var/folders/51/3j6n8rwd74g2tsjt5jhcy91w0000gn/T/pip-wheel-5pj8an_2/distribute/\n",
      "        Complete output (15 lines):\n",
      "        Traceback (most recent call last):\n",
      "          File \"<string>\", line 1, in <module>\n",
      "          File \"/private/var/folders/51/3j6n8rwd74g2tsjt5jhcy91w0000gn/T/pip-wheel-5pj8an_2/distribute/setuptools/__init__.py\", line 2, in <module>\n",
      "            from setuptools.extension import Extension, Library\n",
      "          File \"/private/var/folders/51/3j6n8rwd74g2tsjt5jhcy91w0000gn/T/pip-wheel-5pj8an_2/distribute/setuptools/extension.py\", line 5, in <module>\n",
      "            from setuptools.dist import _get_unpatched\n",
      "          File \"/private/var/folders/51/3j6n8rwd74g2tsjt5jhcy91w0000gn/T/pip-wheel-5pj8an_2/distribute/setuptools/dist.py\", line 7, in <module>\n",
      "            from setuptools.command.install import install\n",
      "          File \"/private/var/folders/51/3j6n8rwd74g2tsjt5jhcy91w0000gn/T/pip-wheel-5pj8an_2/distribute/setuptools/command/__init__.py\", line 8, in <module>\n",
      "            from setuptools.command import install_scripts\n",
      "          File \"/private/var/folders/51/3j6n8rwd74g2tsjt5jhcy91w0000gn/T/pip-wheel-5pj8an_2/distribute/setuptools/command/install_scripts.py\", line 3, in <module>\n",
      "            from pkg_resources import Distribution, PathMetadata, ensure_directory\n",
      "          File \"/private/var/folders/51/3j6n8rwd74g2tsjt5jhcy91w0000gn/T/pip-wheel-5pj8an_2/distribute/pkg_resources.py\", line 1518, in <module>\n",
      "            register_loader_type(importlib_bootstrap.SourceFileLoader, DefaultProvider)\n",
      "        AttributeError: module 'importlib._bootstrap' has no attribute 'SourceFileLoader'\n",
      "        ----------------------------------------\n",
      "    ERROR: Command errored out with exit status 1: python setup.py egg_info Check the logs for full command output.\n",
      "    Traceback (most recent call last):\n",
      "      File \"/opt/anaconda3/lib/python3.7/site-packages/setuptools/installer.py\", line 128, in fetch_build_egg\n",
      "        subprocess.check_call(cmd)\n",
      "      File \"/opt/anaconda3/lib/python3.7/subprocess.py\", line 363, in check_call\n",
      "        raise CalledProcessError(retcode, cmd)\n",
      "    subprocess.CalledProcessError: Command '['/opt/anaconda3/bin/python', '-m', 'pip', '--disable-pip-version-check', 'wheel', '--no-deps', '-w', '/var/folders/51/3j6n8rwd74g2tsjt5jhcy91w0000gn/T/tmpkh_ndsta', '--quiet', 'distribute']' returned non-zero exit status 1.\n",
      "    \n",
      "    During handling of the above exception, another exception occurred:\n",
      "    \n",
      "    Traceback (most recent call last):\n",
      "      File \"<string>\", line 1, in <module>\n",
      "      File \"/private/var/folders/51/3j6n8rwd74g2tsjt5jhcy91w0000gn/T/pip-install-u41aaj9_/dotenv/setup.py\", line 23, in <module>\n",
      "        scripts=['scripts/dotenv']\n",
      "      File \"/opt/anaconda3/lib/python3.7/site-packages/setuptools/__init__.py\", line 143, in setup\n",
      "        _install_setup_requires(attrs)\n",
      "      File \"/opt/anaconda3/lib/python3.7/site-packages/setuptools/__init__.py\", line 138, in _install_setup_requires\n",
      "        dist.fetch_build_eggs(dist.setup_requires)\n",
      "      File \"/opt/anaconda3/lib/python3.7/site-packages/setuptools/dist.py\", line 687, in fetch_build_eggs\n",
      "        replace_conflicting=True,\n",
      "      File \"/opt/anaconda3/lib/python3.7/site-packages/pkg_resources/__init__.py\", line 783, in resolve\n",
      "        replace_conflicting=replace_conflicting\n",
      "      File \"/opt/anaconda3/lib/python3.7/site-packages/pkg_resources/__init__.py\", line 1066, in best_match\n",
      "        return self.obtain(req, installer)\n",
      "      File \"/opt/anaconda3/lib/python3.7/site-packages/pkg_resources/__init__.py\", line 1078, in obtain\n",
      "        return installer(requirement)\n",
      "      File \"/opt/anaconda3/lib/python3.7/site-packages/setuptools/dist.py\", line 743, in fetch_build_egg\n",
      "        return fetch_build_egg(self, req)\n",
      "      File \"/opt/anaconda3/lib/python3.7/site-packages/setuptools/installer.py\", line 130, in fetch_build_egg\n",
      "        raise DistutilsError(str(e))\n",
      "    distutils.errors.DistutilsError: Command '['/opt/anaconda3/bin/python', '-m', 'pip', '--disable-pip-version-check', 'wheel', '--no-deps', '-w', '/var/folders/51/3j6n8rwd74g2tsjt5jhcy91w0000gn/T/tmpkh_ndsta', '--quiet', 'distribute']' returned non-zero exit status 1.\n",
      "    ----------------------------------------\u001b[0m\n",
      "\u001b[31mERROR: Command errored out with exit status 1: python setup.py egg_info Check the logs for full command output.\u001b[0m\n"
     ]
    }
   ],
   "source": [
    "!pip install dotenv"
   ]
  },
  {
   "cell_type": "code",
   "execution_count": 19,
   "metadata": {},
   "outputs": [],
   "source": [
    "from openai import OpenAI\n",
    "\n",
    "\n",
    "client = OpenAI(\n",
    "    # This is the default and can be omitted\n",
    "    api_key=api_key,\n",
    ")"
   ]
  },
  {
   "cell_type": "code",
   "execution_count": 24,
   "metadata": {},
   "outputs": [
    {
     "ename": "ModuleNotFoundError",
     "evalue": "No module named 'dotenv'",
     "output_type": "error",
     "traceback": [
      "\u001b[0;31m---------------------------------------------------------------------------\u001b[0m",
      "\u001b[0;31mModuleNotFoundError\u001b[0m                       Traceback (most recent call last)",
      "\u001b[0;32m<ipython-input-24-4ba579c31f7f>\u001b[0m in \u001b[0;36m<module>\u001b[0;34m\u001b[0m\n\u001b[1;32m      2\u001b[0m \u001b[0;32mimport\u001b[0m \u001b[0mos\u001b[0m\u001b[0;34m\u001b[0m\u001b[0;34m\u001b[0m\u001b[0m\n\u001b[1;32m      3\u001b[0m \u001b[0;34m\u001b[0m\u001b[0m\n\u001b[0;32m----> 4\u001b[0;31m \u001b[0;32mfrom\u001b[0m \u001b[0mdotenv\u001b[0m \u001b[0;32mimport\u001b[0m \u001b[0mload_dotenv\u001b[0m\u001b[0;34m,\u001b[0m \u001b[0mfind_dotenv\u001b[0m\u001b[0;34m\u001b[0m\u001b[0;34m\u001b[0m\u001b[0m\n\u001b[0m\u001b[1;32m      5\u001b[0m \u001b[0m_\u001b[0m \u001b[0;34m=\u001b[0m \u001b[0mload_dotenv\u001b[0m\u001b[0;34m(\u001b[0m\u001b[0mfind_dotenv\u001b[0m\u001b[0;34m(\u001b[0m\u001b[0;34m)\u001b[0m\u001b[0;34m)\u001b[0m \u001b[0;31m# read local .env file\u001b[0m\u001b[0;34m\u001b[0m\u001b[0;34m\u001b[0m\u001b[0m\n\u001b[1;32m      6\u001b[0m \u001b[0;34m\u001b[0m\u001b[0m\n",
      "\u001b[0;31mModuleNotFoundError\u001b[0m: No module named 'dotenv'"
     ]
    }
   ],
   "source": [
    "import openai\n",
    "import os\n",
    "\n",
    "from dotenv import load_dotenv, find_dotenv\n",
    "_ = load_dotenv(find_dotenv()) # read local .env file\n",
    "\n",
    "openai.api_key  = api_key"
   ]
  },
  {
   "cell_type": "code",
   "execution_count": null,
   "metadata": {},
   "outputs": [],
   "source": []
  },
  {
   "cell_type": "code",
   "execution_count": null,
   "metadata": {},
   "outputs": [],
   "source": []
  },
  {
   "cell_type": "code",
   "execution_count": 22,
   "metadata": {},
   "outputs": [
    {
     "ename": "TypeError",
     "evalue": "Missing required arguments; Expected either ('messages' and 'model') or ('messages', 'model' and 'stream') arguments to be given",
     "output_type": "error",
     "traceback": [
      "\u001b[0;31m---------------------------------------------------------------------------\u001b[0m",
      "\u001b[0;31mTypeError\u001b[0m                                 Traceback (most recent call last)",
      "\u001b[0;32m<ipython-input-22-850627d47a6e>\u001b[0m in \u001b[0;36m<module>\u001b[0;34m\u001b[0m\n\u001b[1;32m      3\u001b[0m         {\n\u001b[1;32m      4\u001b[0m             \u001b[0;34m\"role\"\u001b[0m\u001b[0;34m:\u001b[0m \u001b[0;34m\"user\"\u001b[0m\u001b[0;34m,\u001b[0m\u001b[0;34m\u001b[0m\u001b[0;34m\u001b[0m\u001b[0m\n\u001b[0;32m----> 5\u001b[0;31m             \u001b[0;34m\"content\"\u001b[0m\u001b[0;34m:\u001b[0m \u001b[0;34m\"Say this is a test\"\u001b[0m\u001b[0;34m,\u001b[0m\u001b[0;34m\u001b[0m\u001b[0;34m\u001b[0m\u001b[0m\n\u001b[0m\u001b[1;32m      6\u001b[0m         }\n\u001b[1;32m      7\u001b[0m     ],\n",
      "\u001b[0;32m/opt/anaconda3/lib/python3.7/site-packages/openai/_utils/_utils.py\u001b[0m in \u001b[0;36mwrapper\u001b[0;34m(*args, **kwargs)\u001b[0m\n\u001b[1;32m    268\u001b[0m                     \u001b[0;32melse\u001b[0m\u001b[0;34m:\u001b[0m\u001b[0;34m\u001b[0m\u001b[0;34m\u001b[0m\u001b[0m\n\u001b[1;32m    269\u001b[0m                         \u001b[0mmsg\u001b[0m \u001b[0;34m=\u001b[0m \u001b[0;34mf\"Missing required argument: {quote(missing[0])}\"\u001b[0m\u001b[0;34m\u001b[0m\u001b[0;34m\u001b[0m\u001b[0m\n\u001b[0;32m--> 270\u001b[0;31m                 \u001b[0;32mraise\u001b[0m \u001b[0mTypeError\u001b[0m\u001b[0;34m(\u001b[0m\u001b[0mmsg\u001b[0m\u001b[0;34m)\u001b[0m\u001b[0;34m\u001b[0m\u001b[0;34m\u001b[0m\u001b[0m\n\u001b[0m\u001b[1;32m    271\u001b[0m             \u001b[0;32mreturn\u001b[0m \u001b[0mfunc\u001b[0m\u001b[0;34m(\u001b[0m\u001b[0;34m*\u001b[0m\u001b[0margs\u001b[0m\u001b[0;34m,\u001b[0m \u001b[0;34m**\u001b[0m\u001b[0mkwargs\u001b[0m\u001b[0;34m)\u001b[0m\u001b[0;34m\u001b[0m\u001b[0;34m\u001b[0m\u001b[0m\n\u001b[1;32m    272\u001b[0m \u001b[0;34m\u001b[0m\u001b[0m\n",
      "\u001b[0;31mTypeError\u001b[0m: Missing required arguments; Expected either ('messages' and 'model') or ('messages', 'model' and 'stream') arguments to be given"
     ]
    }
   ],
   "source": [
    "chat_completion = client.chat.completions.create(\n",
    "    messages=[\n",
    "        {\n",
    "            \"role\": \"user\",\n",
    "            \"content\": \"Say this is a test\",\n",
    "        }\n",
    "    ],\n",
    "    #model=\"gpt-3.5-turbo\",\n",
    ")"
   ]
  },
  {
   "cell_type": "code",
   "execution_count": null,
   "metadata": {},
   "outputs": [],
   "source": []
  },
  {
   "cell_type": "code",
   "execution_count": null,
   "metadata": {},
   "outputs": [],
   "source": []
  },
  {
   "cell_type": "code",
   "execution_count": null,
   "metadata": {},
   "outputs": [],
   "source": []
  },
  {
   "cell_type": "code",
   "execution_count": null,
   "metadata": {},
   "outputs": [],
   "source": []
  },
  {
   "cell_type": "code",
   "execution_count": null,
   "metadata": {},
   "outputs": [],
   "source": []
  },
  {
   "cell_type": "code",
   "execution_count": null,
   "metadata": {},
   "outputs": [],
   "source": []
  },
  {
   "cell_type": "code",
   "execution_count": null,
   "metadata": {},
   "outputs": [],
   "source": []
  },
  {
   "cell_type": "code",
   "execution_count": null,
   "metadata": {},
   "outputs": [],
   "source": []
  },
  {
   "cell_type": "code",
   "execution_count": null,
   "metadata": {},
   "outputs": [],
   "source": []
  }
 ],
 "metadata": {
  "kernelspec": {
   "display_name": "Python 3",
   "language": "python",
   "name": "python3"
  },
  "language_info": {
   "codemirror_mode": {
    "name": "ipython",
    "version": 3
   },
   "file_extension": ".py",
   "mimetype": "text/x-python",
   "name": "python",
   "nbconvert_exporter": "python",
   "pygments_lexer": "ipython3",
   "version": "3.7.6"
  }
 },
 "nbformat": 4,
 "nbformat_minor": 4
}
