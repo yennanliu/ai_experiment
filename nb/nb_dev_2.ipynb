{
 "cells": [
  {
   "cell_type": "code",
   "execution_count": 4,
   "id": "dead054b-3838-4b2f-b016-9ab55d090c9b",
   "metadata": {},
   "outputs": [],
   "source": [
    "api_key=\"\""
   ]
  },
  {
   "cell_type": "code",
   "execution_count": 3,
   "id": "9668f850-6e56-4f4d-9993-d8da01dbe1ce",
   "metadata": {
    "scrolled": true
   },
   "outputs": [
    {
     "name": "stdout",
     "output_type": "stream",
     "text": [
      "Defaulting to user installation because normal site-packages is not writeable\n",
      "Collecting openai==0.28\n",
      "  Downloading openai-0.28.0-py3-none-any.whl.metadata (13 kB)\n",
      "Requirement already satisfied: requests>=2.20 in /Users/yennanliu/Library/Python/3.9/lib/python/site-packages (from openai==0.28) (2.31.0)\n",
      "Collecting tqdm (from openai==0.28)\n",
      "  Downloading tqdm-4.66.1-py3-none-any.whl.metadata (57 kB)\n",
      "\u001b[2K     \u001b[38;2;114;156;31m━━━━━━━━━━━━━━━━━━━━━━━━━━━━━━━━━━━━━━━\u001b[0m \u001b[32m57.6/57.6 kB\u001b[0m \u001b[31m550.0 kB/s\u001b[0m eta \u001b[36m0:00:00\u001b[0m1m464.3 kB/s\u001b[0m eta \u001b[36m0:00:01\u001b[0m\n",
      "\u001b[?25hCollecting aiohttp (from openai==0.28)\n",
      "  Downloading aiohttp-3.9.1-cp39-cp39-macosx_11_0_arm64.whl.metadata (7.4 kB)\n",
      "Requirement already satisfied: charset-normalizer<4,>=2 in /Users/yennanliu/Library/Python/3.9/lib/python/site-packages (from requests>=2.20->openai==0.28) (3.3.2)\n",
      "Requirement already satisfied: idna<4,>=2.5 in /Users/yennanliu/Library/Python/3.9/lib/python/site-packages (from requests>=2.20->openai==0.28) (3.6)\n",
      "Requirement already satisfied: urllib3<3,>=1.21.1 in /Users/yennanliu/Library/Python/3.9/lib/python/site-packages (from requests>=2.20->openai==0.28) (2.1.0)\n",
      "Requirement already satisfied: certifi>=2017.4.17 in /Users/yennanliu/Library/Python/3.9/lib/python/site-packages (from requests>=2.20->openai==0.28) (2023.11.17)\n",
      "Requirement already satisfied: attrs>=17.3.0 in /Users/yennanliu/Library/Python/3.9/lib/python/site-packages (from aiohttp->openai==0.28) (23.2.0)\n",
      "Collecting multidict<7.0,>=4.5 (from aiohttp->openai==0.28)\n",
      "  Downloading multidict-6.0.4-cp39-cp39-macosx_11_0_arm64.whl (29 kB)\n",
      "Collecting yarl<2.0,>=1.0 (from aiohttp->openai==0.28)\n",
      "  Downloading yarl-1.9.4-cp39-cp39-macosx_11_0_arm64.whl.metadata (31 kB)\n",
      "Collecting frozenlist>=1.1.1 (from aiohttp->openai==0.28)\n",
      "  Downloading frozenlist-1.4.1-cp39-cp39-macosx_11_0_arm64.whl.metadata (12 kB)\n",
      "Collecting aiosignal>=1.1.2 (from aiohttp->openai==0.28)\n",
      "  Downloading aiosignal-1.3.1-py3-none-any.whl (7.6 kB)\n",
      "Collecting async-timeout<5.0,>=4.0 (from aiohttp->openai==0.28)\n",
      "  Downloading async_timeout-4.0.3-py3-none-any.whl.metadata (4.2 kB)\n",
      "Downloading openai-0.28.0-py3-none-any.whl (76 kB)\n",
      "\u001b[2K   \u001b[38;2;114;156;31m━━━━━━━━━━━━━━━━━━━━━━━━━━━━━━━━━━━━━━━━\u001b[0m \u001b[32m76.5/76.5 kB\u001b[0m \u001b[31m2.1 MB/s\u001b[0m eta \u001b[36m0:00:00\u001b[0m\n",
      "\u001b[?25hDownloading aiohttp-3.9.1-cp39-cp39-macosx_11_0_arm64.whl (387 kB)\n",
      "\u001b[2K   \u001b[38;2;114;156;31m━━━━━━━━━━━━━━━━━━━━━━━━━━━━━━━━━━━━━━━━\u001b[0m \u001b[32m387.3/387.3 kB\u001b[0m \u001b[31m1.3 MB/s\u001b[0m eta \u001b[36m0:00:00\u001b[0m[31m1.1 MB/s\u001b[0m eta \u001b[36m0:00:01\u001b[0m\n",
      "\u001b[?25hDownloading tqdm-4.66.1-py3-none-any.whl (78 kB)\n",
      "\u001b[2K   \u001b[38;2;114;156;31m━━━━━━━━━━━━━━━━━━━━━━━━━━━━━━━━━━━━━━━━\u001b[0m \u001b[32m78.3/78.3 kB\u001b[0m \u001b[31m1.6 MB/s\u001b[0m eta \u001b[36m0:00:00\u001b[0m[31m1.9 MB/s\u001b[0m eta \u001b[36m0:00:01\u001b[0m\n",
      "\u001b[?25hDownloading async_timeout-4.0.3-py3-none-any.whl (5.7 kB)\n",
      "Downloading frozenlist-1.4.1-cp39-cp39-macosx_11_0_arm64.whl (53 kB)\n",
      "\u001b[2K   \u001b[38;2;114;156;31m━━━━━━━━━━━━━━━━━━━━━━━━━━━━━━━━━━━━━━━━\u001b[0m \u001b[32m53.7/53.7 kB\u001b[0m \u001b[31m1.4 MB/s\u001b[0m eta \u001b[36m0:00:00\u001b[0m\n",
      "\u001b[?25hDownloading yarl-1.9.4-cp39-cp39-macosx_11_0_arm64.whl (81 kB)\n",
      "\u001b[2K   \u001b[38;2;114;156;31m━━━━━━━━━━━━━━━━━━━━━━━━━━━━━━━━━━━━━━━━\u001b[0m \u001b[32m81.8/81.8 kB\u001b[0m \u001b[31m1.4 MB/s\u001b[0m eta \u001b[36m0:00:00\u001b[0m MB/s\u001b[0m eta \u001b[36m0:00:01\u001b[0m\n",
      "\u001b[?25hInstalling collected packages: tqdm, multidict, frozenlist, async-timeout, yarl, aiosignal, aiohttp, openai\n",
      "Successfully installed aiohttp-3.9.1 aiosignal-1.3.1 async-timeout-4.0.3 frozenlist-1.4.1 multidict-6.0.4 openai-0.28.0 tqdm-4.66.1 yarl-1.9.4\n",
      "\n",
      "\u001b[1m[\u001b[0m\u001b[34;49mnotice\u001b[0m\u001b[1;39;49m]\u001b[0m\u001b[39;49m A new release of pip is available: \u001b[0m\u001b[31;49m23.3.1\u001b[0m\u001b[39;49m -> \u001b[0m\u001b[32;49m23.3.2\u001b[0m\n",
      "\u001b[1m[\u001b[0m\u001b[34;49mnotice\u001b[0m\u001b[1;39;49m]\u001b[0m\u001b[39;49m To update, run: \u001b[0m\u001b[32;49m/Library/Developer/CommandLineTools/usr/bin/python3 -m pip install --upgrade pip\u001b[0m\n"
     ]
    }
   ],
   "source": [
    "!pip install openai==0.28"
   ]
  },
  {
   "cell_type": "code",
   "execution_count": 5,
   "id": "d177e078-8740-4658-98fc-197c927219b0",
   "metadata": {},
   "outputs": [
    {
     "name": "stderr",
     "output_type": "stream",
     "text": [
      "/Users/yennanliu/Library/Python/3.9/lib/python/site-packages/urllib3/__init__.py:34: NotOpenSSLWarning: urllib3 v2 only supports OpenSSL 1.1.1+, currently the 'ssl' module is compiled with 'LibreSSL 2.8.3'. See: https://github.com/urllib3/urllib3/issues/3020\n",
      "  warnings.warn(\n"
     ]
    }
   ],
   "source": [
    "import openai\n",
    "import os"
   ]
  },
  {
   "cell_type": "code",
   "execution_count": 8,
   "id": "79ecae4e-b172-493b-8bbb-0d94085b3d6f",
   "metadata": {},
   "outputs": [],
   "source": [
    "#---------------------------------------\n",
    "# Generate a  Post with Google SEO trend\n",
    "#---------------------------------------\n",
    "\n",
    "# https://trends.google.com/trends/trendingsearches/daily?geo=TW&hl=zh-TW"
   ]
  },
  {
   "cell_type": "code",
   "execution_count": null,
   "id": "079ecd11-284f-44ef-b103-94211a806c5e",
   "metadata": {},
   "outputs": [],
   "source": []
  },
  {
   "cell_type": "code",
   "execution_count": 9,
   "id": "6e6df87a-094b-41fa-8a22-a013b2e9c71f",
   "metadata": {},
   "outputs": [
    {
     "name": "stdout",
     "output_type": "stream",
     "text": [
      "\n",
      "在女演員滿島光去年參與金馬獎的新聞中，也隱藏了一個趨勢，就是日本娛樂界與台灣的聯繫正在日益密切。除了滿島光之外，還有曾被稱為「日本劇界代表作」的《初戀》男主角古川雄輝，也曾經以主演台灣電視劇《美味奇緣》被台灣觀眾熟知。這種「跨界合作」在近幾年來越來越常見，究竟是什麼原因讓這些來自兩地的演員、藝人之間建立起合作關係？\n",
      "\n",
      "一個很重要的因素是文化交流。日本與台灣雖然地理上離得不遠，但文化上卻相當不同。以往的年代，兩\n"
     ]
    }
   ],
   "source": [
    "\n",
    "prompt = \"\"\"請產出ㄧ篇新的文章, 混合以下三篇文章\n",
    "\n",
    "1) 曾演出日劇《初戀》的日本女演員滿島光去（2023）年曾來台參與金馬獎，而她也不負女神魅力，除了獨特氣質以外更以親民作風為國人留下深刻印象。巧的是她為台灣《VOGUE》、大陸《Figaro Homme》兩地時尚雜誌拍的照片，這幾天正好接連曝光，然而對岸竟主打「沒有眉毛的滿島光」，加上照片實在太土，不僅讓台灣影迷看傻眼，大陸粉絲的毒舌評論更連番出籠，不少人都直呼：「滿島光我幫妳提告！」\n",
    "\n",
    "2) T1台啤永豐雲豹職業籃球隊新加盟的前NBA全明星、「表弟」卡森斯（DeMarcus Cousins）18日晚間抵台，無懼時差立刻投入訓練，為即將到來的主場賽事進行準備，晚間也出席加盟記者會。表弟受訪時表示，其實過去因為受傷等等原因沒有持續打球，但他非常喜歡在團隊下享受跟隊友合作搭配的過程，球團給他很棒的條件，他很開心能在不同國家粉絲面前獻技。\n",
    "\n",
    "另外雲豹球團營運長顏行書證實，卡森斯將現身月底的跨聯盟交流賽，引起球迷熱烈討論。新竹御頂攻城獅球團今日宣布將於1月30日（二）19:00舉辦「大獅風雲賽」，由攻城獅在主場迎戰T1聯盟台啤永豐雲豹。攻城獅球團把握難得機會進行季中交流賽，期盼球員透過高水平競技提升賽事經驗與實力，也希望能為新竹獅紫軍帶來高張力的精彩賽事。\n",
    "\n",
    "3) 旅行者們大家好，《原神》開發團隊在此誠摯向您獻上新年祝福！我們今天將正式宣布2024年的第一次更新！4.4版本「彩鷂櫛春風」將於1月31日上線，並再次將重點集中在璃月！我們誠心邀請您在璃月與閒雲和嘉明共同迎接提瓦特的新年，同時享受節日氛圍，並兌換包括10+3枚糾纏之緣、一位免費四星璃月角色以及行秋新衣裝等海量獎勵。\n",
    "\n",
    "此外，位於璃月西北的沉玉谷也即將揭曉，旅行者可以探訪茶香滿溢的村莊和連接楓丹的繁華港口，更可以在雲霧繚繞的壯麗山川中探尋仙人的傳說。\n",
    "\n",
    "\n",
    "請提供嶄新的觀點, 從上述文章發揮\n",
    "字數至少要500字\n",
    "\"\"\"\n",
    "\n",
    "# Call the ChatGPT API using the new ChatCompletion interface\n",
    "response = openai.Completion.create(\n",
    "    engine=\"gpt-3.5-turbo-instruct\",  # Use the appropriate engine for ChatGPT\n",
    "    prompt=prompt,\n",
    "    max_tokens=300  # You can adjust this parameter as needed\n",
    ")\n",
    "\n",
    "#print(response)\n",
    "decoded_response = response['choices'][0]['text'].encode('utf-8').decode('utf-8')\n",
    "print(decoded_response)"
   ]
  },
  {
   "cell_type": "code",
   "execution_count": 10,
   "id": "444339b9-283d-4b1e-a2b3-e426aea9e69a",
   "metadata": {},
   "outputs": [
    {
     "name": "stdout",
     "output_type": "stream",
     "text": [
      "\n",
      "---------------> token = 100\n",
      "word count = 63\n",
      "\n",
      "混合三篇文章，讓我們看到了不同領域的發展與進步。從演藝圈到運動圈到電玩圈，每個領域都有獨特的魅力吸引著群眾。滿島光的魅力不僅\n",
      "\n",
      "\n",
      "---------------> token = 300\n",
      "word count = 203\n",
      "\n",
      "2019年的金馬獎，台灣影迷們見證了日本女演員滿島光的魅力。她身穿優雅的禮服，迎接了媒體的採訪，臉上散發著自信的笑容，彷彿女神降臨凡間。然而，幾年後的2023年，她再次來到台灣，造成了震撼性的反差。\n",
      "\n",
      "盛裝打扮下的滿島光，溫柔且優雅的神情，在台灣留下了深刻的印象。然而，對岸卻將她的形象大幅改變。「沒有眉毛的滿島光」，讓台灣影迷不禁傻眼，更讓大陸粉絲不吝嗇的毒舌評論。造成對岸台灣兩地迥然不同的評價，讓人\n",
      "\n",
      "\n",
      "---------------> token = 1000\n",
      "word count = 702\n",
      "\n",
      "滿島光和卡森斯的加盟，讓台灣的演藝圈和體育界都受到了關注。然而，在遙望即將到來的2023年，一項更具話題性的事件將會在台灣掀起狂熱的風潮。\n",
      "\n",
      "2023年，藉由《原神》遊戲為基礎的漫畫將於台灣出版，其中會以台灣為背景設定，讓全世界的玩家都能夠領略台灣的美麗之處。而這本漫畫的作者將由一位神秘藝術家扮演，她就是日本女演員滿島光。\n",
      "\n",
      "在漫畫中，滿島光將飾演一位名叫滿島真佳的角色，她是一位討厭台灣的日本人，但是在一次偶然的機會下，她被傳送到了台灣，並在台灣展開了一段驚險又有趣的旅程。在這段旅程中，滿島真佳將與一位台灣人，也就是漫畫中的主角，一起探索台灣的美景和文化，並逐漸改變對台灣的看法。\n",
      "\n",
      "滿島光表示，她在現實生活中並不是一位討厭台灣的人，反而很喜歡台灣的氛圍和人文。透過這本漫畫，她希望能讓更多的人認識台灣，並帶給大家正能量與歡樂。\n",
      "\n",
      "這本漫畫的出版也正是滿島光再次造訪台灣的契機。在接受媒體訪問時，滿島光表示自己對台灣有著特別的情感，也感謝台灣為她帶來了許多美好的回憶。她也坦言，在台灣的影迷和粉絲們的支持下，她更加努力地投入演出，希望能在不久的將來再次回到台灣。\n",
      "\n",
      "除了漫畫，滿島光也表示將與賈靜雯、廖佩玲和吳慷仁等台灣優秀的演員合作，參演由台灣、日本和韓國合資製作的電影《滿天飛雪》。這部電影將於同年在台灣和日本同步上映，並邀請眾多日本和台灣的明星一起出席首映禮，讓台灣與日本的文化交流更加深厚。\n",
      "\n",
      "而除了滿島光，另一位在2023年將造訪台灣的重量級日本明星則是前NBA全明星卡森斯。作為T1台啤永豐雲豹職業籃球隊的一員，卡森斯將在台灣打出新的一季，也將以全新的球季展現絕佳的運動技巧，讓球迷們\n",
      "\n",
      "\n",
      "---------------> token = 2500\n",
      "word count = 1107\n",
      "\n",
      "2023年的初夏，台灣迎來了一位備受歡迎的日本女星，滿島光。她的到來讓金馬獎熱度再度飆升，而滿島光也以她充滿魅力的獨特氣質和親民作風深深打動了台灣觀眾的心。不過，就在這段熱鬧的時期，大陸的時尚雜誌卻針對滿島光的照片狂轟，甚至還主打「沒有眉毛的滿島光」。這樣的評論讓許多台灣粉絲傻眼，而大陸粉絲更是毒舌連連，讓人不禁想起近期在網路上瘋傳的「毒粉」文化。\n",
      "\n",
      "事實上，對於這些毒舌言論，滿島光似乎沒有受到什麼影響，她仍保有著親切的笑容和自信的姿態，展現出真正的女神風範。畢竟，滿島光不僅是一位演員，更是一位具有獨特魅力和自信的女性。她的外表不需要被社會框架和標準定義，她更重視的是她的內在和人格。所以，那些評論或許只會讓她更加堅定不移地走自己的路。\n",
      "\n",
      "而在此同時，另一位身影也正在台灣的籃球場上引起熱烈討論。他就是前NBA全明星、唐西斯的表弟卡森斯，他以表弟的身份加盟了T1台啤永豐雲豹職業籃球隊。他帶著過去受傷和其他原因而中斷的籃球生涯，再次回到球場上，展現他的實力和熱情。在球迷的期待下，卡森斯立刻投入訓練，準備迎接即將到來的主場賽事。他也感謝球團給予他很棒的條件，讓他能在不同國家的粉絲面前獻技。\n",
      "\n",
      "除了加盟記者會的露面外，球迷更期待的是他將現身月底的跨聯盟交流賽。有趣的是，他的第一場比賽將是在1月30日與新竹御頂攻城獅的「大獅風雲賽」中，對決T1台啤的對手。這也引發了球迷對於交流賽的討論和期待。不得不說，籃球已經不只是一種運動，更像是一種文化和精神，它讓不同國家的人們彼此連結，一同分享與挑戰。而卡森斯的加盟，也讓台灣與其他國家的籃球文化再次交流、融和。\n",
      "\n",
      "就在球迷期待卡森斯的表現之際，「原神」遊戲的開發團隊也為粉絲準備了一場盛大的新年驚喜。他們將在2024年第一次更新中，推出一個名為「彩鷂櫛春風」的版本，讓粉絲在1月31日開始，可以在遊戲中體驗提瓦特的新年氣氛。這次的重點將再次集中在璃月地區，讓旅行者可以透過遊戲探訪璃月的美景和傳說。\n",
      "\n",
      "此外，璃月西北方的沉玉谷也將在此次更新中揭曉，讓旅行者可以進一步探索這個神秘的地區。在茶香滿溢的村莊和充滿繁華的港口間穿梭，似乎也能感受到璃月的美好和仙境般的氛圍。而這次的更新也將新增許多獎勵和新的角色，讓玩家可以更深入地體驗遊戲中的故事和世界觀。\n",
      "\n",
      "在不同國家的文化、節日及精彩賽事中，我們可以看到各方人士彼此的連結和融合。無論是藝術家、運動員、或是遊戲開發團隊，他們都提供了能夠互相連接的平台和媒介。透過這樣的連結，文化與友誼得以深入，也讓世界變得更加多彩。就像滿島光、卡森斯和「原神」遊戲一樣，他們跨越國界、文化和語言的連結，正是世界上最美好的連結之一。\n",
      "\n"
     ]
    }
   ],
   "source": [
    "for token in [100, 300, 1000, 2500]:\n",
    "    response = openai.Completion.create(\n",
    "    engine=\"gpt-3.5-turbo-instruct\",  # Use the appropriate engine for ChatGPT\n",
    "    prompt=prompt,\n",
    "    max_tokens=token  # You can adjust this parameter as needed\n",
    "    )\n",
    "    #res = response[\"choices\"][0][\"text\"]\n",
    "    decoded_response = response['choices'][0]['text'].encode('utf-8').decode('utf-8')\n",
    "    print()\n",
    "    print (\"---------------> token = \" + str(token))\n",
    "    print (\"word count = \" + str(len(decoded_response)))\n",
    "    print (decoded_response)\n",
    "    print()"
   ]
  },
  {
   "cell_type": "code",
   "execution_count": null,
   "id": "ad3e3b00-73d6-4da9-901a-da33e8bf66cc",
   "metadata": {},
   "outputs": [],
   "source": []
  },
  {
   "cell_type": "code",
   "execution_count": null,
   "id": "c5939850-2049-4b44-8e53-576920caa057",
   "metadata": {},
   "outputs": [],
   "source": []
  },
  {
   "cell_type": "code",
   "execution_count": null,
   "id": "8ab8226c-516f-4e95-aa44-c6a638838594",
   "metadata": {},
   "outputs": [],
   "source": []
  },
  {
   "cell_type": "code",
   "execution_count": null,
   "id": "c843af50-4575-4b38-9349-22683b5814cb",
   "metadata": {},
   "outputs": [],
   "source": []
  }
 ],
 "metadata": {
  "kernelspec": {
   "display_name": "Python 3 (ipykernel)",
   "language": "python",
   "name": "python3"
  },
  "language_info": {
   "codemirror_mode": {
    "name": "ipython",
    "version": 3
   },
   "file_extension": ".py",
   "mimetype": "text/x-python",
   "name": "python",
   "nbconvert_exporter": "python",
   "pygments_lexer": "ipython3",
   "version": "3.9.6"
  }
 },
 "nbformat": 4,
 "nbformat_minor": 5
}
