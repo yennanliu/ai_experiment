{
 "cells": [
  {
   "cell_type": "code",
   "execution_count": 4,
   "metadata": {},
   "outputs": [],
   "source": [
    "api_key=\"\""
   ]
  },
  {
   "cell_type": "code",
   "execution_count": 11,
   "metadata": {
    "scrolled": true
   },
   "outputs": [],
   "source": [
    "#!pip install openai==0.28"
   ]
  },
  {
   "cell_type": "code",
   "execution_count": 5,
   "metadata": {},
   "outputs": [
    {
     "name": "stderr",
     "output_type": "stream",
     "text": [
      "/Users/yennanliu/Library/Python/3.9/lib/python/site-packages/urllib3/__init__.py:34: NotOpenSSLWarning: urllib3 v2 only supports OpenSSL 1.1.1+, currently the 'ssl' module is compiled with 'LibreSSL 2.8.3'. See: https://github.com/urllib3/urllib3/issues/3020\n",
      "  warnings.warn(\n"
     ]
    }
   ],
   "source": [
    "import openai\n",
    "import os"
   ]
  },
  {
   "cell_type": "code",
   "execution_count": 8,
   "metadata": {},
   "outputs": [],
   "source": [
    "#---------------------------------------\n",
    "# Generate a  Post with Google SEO trend\n",
    "#---------------------------------------\n",
    "\n",
    "# https://trends.google.com/trends/trendingsearches/daily?geo=TW&hl=zh-TW"
   ]
  },
  {
   "cell_type": "code",
   "execution_count": null,
   "metadata": {},
   "outputs": [],
   "source": []
  },
  {
   "cell_type": "code",
   "execution_count": 9,
   "metadata": {},
   "outputs": [
    {
     "name": "stdout",
     "output_type": "stream",
     "text": [
      "\n",
      "在女演員滿島光去年參與金馬獎的新聞中，也隱藏了一個趨勢，就是日本娛樂界與台灣的聯繫正在日益密切。除了滿島光之外，還有曾被稱為「日本劇界代表作」的《初戀》男主角古川雄輝，也曾經以主演台灣電視劇《美味奇緣》被台灣觀眾熟知。這種「跨界合作」在近幾年來越來越常見，究竟是什麼原因讓這些來自兩地的演員、藝人之間建立起合作關係？\n",
      "\n",
      "一個很重要的因素是文化交流。日本與台灣雖然地理上離得不遠，但文化上卻相當不同。以往的年代，兩\n"
     ]
    }
   ],
   "source": [
    "\n",
    "prompt = \"\"\"請產出ㄧ篇新的文章, 混合以下三篇文章\n",
    "\n",
    "1) 曾演出日劇《初戀》的日本女演員滿島光去（2023）年曾來台參與金馬獎，而她也不負女神魅力，除了獨特氣質以外更以親民作風為國人留下深刻印象。巧的是她為台灣《VOGUE》、大陸《Figaro Homme》兩地時尚雜誌拍的照片，這幾天正好接連曝光，然而對岸竟主打「沒有眉毛的滿島光」，加上照片實在太土，不僅讓台灣影迷看傻眼，大陸粉絲的毒舌評論更連番出籠，不少人都直呼：「滿島光我幫妳提告！」\n",
    "\n",
    "2) T1台啤永豐雲豹職業籃球隊新加盟的前NBA全明星、「表弟」卡森斯（DeMarcus Cousins）18日晚間抵台，無懼時差立刻投入訓練，為即將到來的主場賽事進行準備，晚間也出席加盟記者會。表弟受訪時表示，其實過去因為受傷等等原因沒有持續打球，但他非常喜歡在團隊下享受跟隊友合作搭配的過程，球團給他很棒的條件，他很開心能在不同國家粉絲面前獻技。\n",
    "\n",
    "另外雲豹球團營運長顏行書證實，卡森斯將現身月底的跨聯盟交流賽，引起球迷熱烈討論。新竹御頂攻城獅球團今日宣布將於1月30日（二）19:00舉辦「大獅風雲賽」，由攻城獅在主場迎戰T1聯盟台啤永豐雲豹。攻城獅球團把握難得機會進行季中交流賽，期盼球員透過高水平競技提升賽事經驗與實力，也希望能為新竹獅紫軍帶來高張力的精彩賽事。\n",
    "\n",
    "3) 旅行者們大家好，《原神》開發團隊在此誠摯向您獻上新年祝福！我們今天將正式宣布2024年的第一次更新！4.4版本「彩鷂櫛春風」將於1月31日上線，並再次將重點集中在璃月！我們誠心邀請您在璃月與閒雲和嘉明共同迎接提瓦特的新年，同時享受節日氛圍，並兌換包括10+3枚糾纏之緣、一位免費四星璃月角色以及行秋新衣裝等海量獎勵。\n",
    "\n",
    "此外，位於璃月西北的沉玉谷也即將揭曉，旅行者可以探訪茶香滿溢的村莊和連接楓丹的繁華港口，更可以在雲霧繚繞的壯麗山川中探尋仙人的傳說。\n",
    "\n",
    "\n",
    "請提供嶄新的觀點, 從上述文章發揮\n",
    "字數至少要500字\n",
    "\"\"\"\n",
    "\n",
    "# Call the ChatGPT API using the new ChatCompletion interface\n",
    "response = openai.Completion.create(\n",
    "    engine=\"gpt-3.5-turbo-instruct\",  # Use the appropriate engine for ChatGPT\n",
    "    prompt=prompt,\n",
    "    max_tokens=300  # You can adjust this parameter as needed\n",
    ")\n",
    "\n",
    "#print(response)\n",
    "decoded_response = response['choices'][0]['text'].encode('utf-8').decode('utf-8')\n",
    "print(decoded_response)"
   ]
  },
  {
   "cell_type": "code",
   "execution_count": 10,
   "metadata": {},
   "outputs": [
    {
     "name": "stdout",
     "output_type": "stream",
     "text": [
      "\n",
      "---------------> token = 100\n",
      "word count = 63\n",
      "\n",
      "混合三篇文章，讓我們看到了不同領域的發展與進步。從演藝圈到運動圈到電玩圈，每個領域都有獨特的魅力吸引著群眾。滿島光的魅力不僅\n",
      "\n",
      "\n",
      "---------------> token = 300\n",
      "word count = 203\n",
      "\n",
      "2019年的金馬獎，台灣影迷們見證了日本女演員滿島光的魅力。她身穿優雅的禮服，迎接了媒體的採訪，臉上散發著自信的笑容，彷彿女神降臨凡間。然而，幾年後的2023年，她再次來到台灣，造成了震撼性的反差。\n",
      "\n",
      "盛裝打扮下的滿島光，溫柔且優雅的神情，在台灣留下了深刻的印象。然而，對岸卻將她的形象大幅改變。「沒有眉毛的滿島光」，讓台灣影迷不禁傻眼，更讓大陸粉絲不吝嗇的毒舌評論。造成對岸台灣兩地迥然不同的評價，讓人\n",
      "\n",
      "\n",
      "---------------> token = 1000\n",
      "word count = 702\n",
      "\n",
      "滿島光和卡森斯的加盟，讓台灣的演藝圈和體育界都受到了關注。然而，在遙望即將到來的2023年，一項更具話題性的事件將會在台灣掀起狂熱的風潮。\n",
      "\n",
      "2023年，藉由《原神》遊戲為基礎的漫畫將於台灣出版，其中會以台灣為背景設定，讓全世界的玩家都能夠領略台灣的美麗之處。而這本漫畫的作者將由一位神秘藝術家扮演，她就是日本女演員滿島光。\n",
      "\n",
      "在漫畫中，滿島光將飾演一位名叫滿島真佳的角色，她是一位討厭台灣的日本人，但是在一次偶然的機會下，她被傳送到了台灣，並在台灣展開了一段驚險又有趣的旅程。在這段旅程中，滿島真佳將與一位台灣人，也就是漫畫中的主角，一起探索台灣的美景和文化，並逐漸改變對台灣的看法。\n",
      "\n",
      "滿島光表示，她在現實生活中並不是一位討厭台灣的人，反而很喜歡台灣的氛圍和人文。透過這本漫畫，她希望能讓更多的人認識台灣，並帶給大家正能量與歡樂。\n",
      "\n",
      "這本漫畫的出版也正是滿島光再次造訪台灣的契機。在接受媒體訪問時，滿島光表示自己對台灣有著特別的情感，也感謝台灣為她帶來了許多美好的回憶。她也坦言，在台灣的影迷和粉絲們的支持下，她更加努力地投入演出，希望能在不久的將來再次回到台灣。\n",
      "\n",
      "除了漫畫，滿島光也表示將與賈靜雯、廖佩玲和吳慷仁等台灣優秀的演員合作，參演由台灣、日本和韓國合資製作的電影《滿天飛雪》。這部電影將於同年在台灣和日本同步上映，並邀請眾多日本和台灣的明星一起出席首映禮，讓台灣與日本的文化交流更加深厚。\n",
      "\n",
      "而除了滿島光，另一位在2023年將造訪台灣的重量級日本明星則是前NBA全明星卡森斯。作為T1台啤永豐雲豹職業籃球隊的一員，卡森斯將在台灣打出新的一季，也將以全新的球季展現絕佳的運動技巧，讓球迷們\n",
      "\n",
      "\n",
      "---------------> token = 2500\n",
      "word count = 1107\n",
      "\n",
      "2023年的初夏，台灣迎來了一位備受歡迎的日本女星，滿島光。她的到來讓金馬獎熱度再度飆升，而滿島光也以她充滿魅力的獨特氣質和親民作風深深打動了台灣觀眾的心。不過，就在這段熱鬧的時期，大陸的時尚雜誌卻針對滿島光的照片狂轟，甚至還主打「沒有眉毛的滿島光」。這樣的評論讓許多台灣粉絲傻眼，而大陸粉絲更是毒舌連連，讓人不禁想起近期在網路上瘋傳的「毒粉」文化。\n",
      "\n",
      "事實上，對於這些毒舌言論，滿島光似乎沒有受到什麼影響，她仍保有著親切的笑容和自信的姿態，展現出真正的女神風範。畢竟，滿島光不僅是一位演員，更是一位具有獨特魅力和自信的女性。她的外表不需要被社會框架和標準定義，她更重視的是她的內在和人格。所以，那些評論或許只會讓她更加堅定不移地走自己的路。\n",
      "\n",
      "而在此同時，另一位身影也正在台灣的籃球場上引起熱烈討論。他就是前NBA全明星、唐西斯的表弟卡森斯，他以表弟的身份加盟了T1台啤永豐雲豹職業籃球隊。他帶著過去受傷和其他原因而中斷的籃球生涯，再次回到球場上，展現他的實力和熱情。在球迷的期待下，卡森斯立刻投入訓練，準備迎接即將到來的主場賽事。他也感謝球團給予他很棒的條件，讓他能在不同國家的粉絲面前獻技。\n",
      "\n",
      "除了加盟記者會的露面外，球迷更期待的是他將現身月底的跨聯盟交流賽。有趣的是，他的第一場比賽將是在1月30日與新竹御頂攻城獅的「大獅風雲賽」中，對決T1台啤的對手。這也引發了球迷對於交流賽的討論和期待。不得不說，籃球已經不只是一種運動，更像是一種文化和精神，它讓不同國家的人們彼此連結，一同分享與挑戰。而卡森斯的加盟，也讓台灣與其他國家的籃球文化再次交流、融和。\n",
      "\n",
      "就在球迷期待卡森斯的表現之際，「原神」遊戲的開發團隊也為粉絲準備了一場盛大的新年驚喜。他們將在2024年第一次更新中，推出一個名為「彩鷂櫛春風」的版本，讓粉絲在1月31日開始，可以在遊戲中體驗提瓦特的新年氣氛。這次的重點將再次集中在璃月地區，讓旅行者可以透過遊戲探訪璃月的美景和傳說。\n",
      "\n",
      "此外，璃月西北方的沉玉谷也將在此次更新中揭曉，讓旅行者可以進一步探索這個神秘的地區。在茶香滿溢的村莊和充滿繁華的港口間穿梭，似乎也能感受到璃月的美好和仙境般的氛圍。而這次的更新也將新增許多獎勵和新的角色，讓玩家可以更深入地體驗遊戲中的故事和世界觀。\n",
      "\n",
      "在不同國家的文化、節日及精彩賽事中，我們可以看到各方人士彼此的連結和融合。無論是藝術家、運動員、或是遊戲開發團隊，他們都提供了能夠互相連接的平台和媒介。透過這樣的連結，文化與友誼得以深入，也讓世界變得更加多彩。就像滿島光、卡森斯和「原神」遊戲一樣，他們跨越國界、文化和語言的連結，正是世界上最美好的連結之一。\n",
      "\n"
     ]
    }
   ],
   "source": [
    "for token in [100, 300, 1000, 2500]:\n",
    "    response = openai.Completion.create(\n",
    "    engine=\"gpt-3.5-turbo-instruct\",  # Use the appropriate engine for ChatGPT\n",
    "    prompt=prompt,\n",
    "    max_tokens=token  # You can adjust this parameter as needed\n",
    "    )\n",
    "    #res = response[\"choices\"][0][\"text\"]\n",
    "    decoded_response = response['choices'][0]['text'].encode('utf-8').decode('utf-8')\n",
    "    print()\n",
    "    print (\"---------------> token = \" + str(token))\n",
    "    print (\"word count = \" + str(len(decoded_response)))\n",
    "    print (decoded_response)\n",
    "    print()"
   ]
  },
  {
   "cell_type": "code",
   "execution_count": null,
   "metadata": {},
   "outputs": [],
   "source": []
  },
  {
   "cell_type": "code",
   "execution_count": null,
   "metadata": {},
   "outputs": [],
   "source": []
  },
  {
   "cell_type": "code",
   "execution_count": 12,
   "metadata": {},
   "outputs": [],
   "source": [
    "#---------------------------------------\n",
    "# Generate a health Post\n",
    "#---------------------------------------\n"
   ]
  },
  {
   "cell_type": "code",
   "execution_count": 13,
   "metadata": {},
   "outputs": [
    {
     "name": "stdout",
     "output_type": "stream",
     "text": [
      "\n",
      "健身運動對於身體健康和心理健康都有著極大的影響，但是對於初學者來說，如何有效地開始進行力量訓練卻是一個困擾。因此，我們將從三篇文章中混合出新的觀點，來幫助初學者更加有系統地進行健身訓練。\n",
      "\n",
      "首先，讓我們從最基本的事情開始，就是選擇適合自己的健身方式。《健身訓練指南》一文提到，初學者最好從機能性訓練和身體自重訓練開始，這樣可以幫助建立基本的肌肉力量和穩定性。另外，身體自重訓練也可以在任何地方進行，不需要特殊的健身器材，非常適合初學者\n"
     ]
    }
   ],
   "source": [
    "\n",
    "prompt = \"\"\"請產出ㄧ篇新的文章, 混合以下三篇文章\n",
    "\n",
    "\n",
    "1) https://blog.worldgymtaiwan.com/strength-training-for-beginners-guide\n",
    "\n",
    "2) https://www.womenshealthmag.com/tw/fitness/work-outs/g39823093/workout-101/\n",
    "\n",
    "3) https://www.peeta.tw/workout/workout-beginner/\n",
    "\n",
    "請提供嶄新的觀點, 從上述文章發揮\n",
    "字數至少要500字\n",
    "\"\"\"\n",
    "\n",
    "# Call the ChatGPT API using the new ChatCompletion interface\n",
    "response = openai.Completion.create(\n",
    "    engine=\"gpt-3.5-turbo-instruct\",  # Use the appropriate engine for ChatGPT\n",
    "    prompt=prompt,\n",
    "    max_tokens=300  # You can adjust this parameter as needed\n",
    ")\n",
    "\n",
    "#print(response)\n",
    "decoded_response = response['choices'][0]['text'].encode('utf-8').decode('utf-8')\n",
    "print(decoded_response)"
   ]
  },
  {
   "cell_type": "code",
   "execution_count": null,
   "metadata": {},
   "outputs": [],
   "source": []
  },
  {
   "cell_type": "code",
   "execution_count": 15,
   "metadata": {},
   "outputs": [],
   "source": [
    "#---------------------------------------\n",
    "# compare output from different model\n",
    "#---------------------------------------\n",
    "\n",
    "# https://platform.openai.com/docs/deprecations"
   ]
  },
  {
   "cell_type": "code",
   "execution_count": 14,
   "metadata": {
    "scrolled": true
   },
   "outputs": [
    {
     "name": "stdout",
     "output_type": "stream",
     "text": [
      "\n",
      "---------------> token = 100\n",
      "word count = 64\n",
      "\n",
      "初學者的力量訓練指南\n",
      "\n",
      "力量訓練被認為是改善身體健康、克服肌肉疲勞和增強肌肉力量的最佳選擇。然而，對於初學者來說，力量訓練可能\n",
      "\n",
      "\n",
      "---------------> token = 300\n",
      "word count = 210\n",
      "\n",
      "混合以上三篇文章所提供的資訊，我們可以看出強化訓練對於初學者來說是非常重要的。 透過適當的強化訓練可以幫助我們建立強壯的身體和健康的生活形式。在進入任何一種訓練前， 首先要了解自己的身體狀況和目標，這將有助於選擇最適合自己的訓練方式。\n",
      "\n",
      "強化訓練對於初學者來說可能會有些許挑戰，但通過適當的指導和訓練計劃，我們可以從中獲得更多的收穫。首先，我們需要充分了解什麼是強化訓練。它是一種訓練方法，旨在提高肌肉的力量和耐力，同\n",
      "\n",
      "\n",
      "---------------> token = 1000\n",
      "word count = 707\n",
      "\n",
      "在健身的世界裡，訓練方式與訓練目的各有不同，然而對於初學者來說，最重要的是如何建立起健身的基礎訓練。今天，我們要談的就是關於初學者的訓練指南，融合了三篇不同的文章的觀點。\n",
      "\n",
      "首先來自世界體育館的文章提到，強化訓練對於初學者來說是非常重要的。透過增加肌肉力量、提升身體的穩定性與平衡性，能夠有效地減少損傷的風險。因此，初學者最好從基礎的強化訓練開始，例如基本的臥推、深蹲、硬舉等練習，每個動作進行15次，進行3到4組。此外，建議初學者每周至少進行3次訓練，讓身體有充分的休息時間。除了強化訓練，世界體育館也提到了重視伸展與柔軟訓練的重要性。這不僅能夠預防肌肉拉傷，更能夠增加肌肉的柔軟性與靈活度。因此，初學者也應該在每次訓練後進行伸展訓練，讓身體得到完整的放鬆與回復。\n",
      "\n",
      "接下來來自女性健康雜誌的文章提到，對於初學者來說，選擇適合自己的訓練方式很重要。不同的人有不同的喜好與需求，因此選擇合適的訓練方式能夠增加繼續健身的動力。女性健康雜誌提到了兩種訓練方式，分別是有氧運動與無氧運動。有氧運動包括跑步、游泳、慢跑等，能夠增加心肺功能，讓身體更有活力。無氧運動則是指重訓，能夠增加肌肉力量與增加肌肉量。雖然有氧運動與無氧運動各有好處，但是對初學者來說，最好的方式是兩者結合。每次訓練中，可以先進行10到20分鐘的有氧運動，再進行重訓，以達到最佳的訓練效果。\n",
      "\n",
      "最後來自peeta的文章提到，對於初學者來說，訓練時反覆訓練同一個肌群是不夠的，應該全面性地訓練。因此，peeta建議對於初學者來說，每次訓練應該針對全身進行訓練，而非只專注於某一個肌群。例如，可以將每次訓練分為上半身訓練和下半身訓練，每週進行兩次全身訓練\n",
      "\n",
      "\n",
      "---------------> token = 2500\n",
      "word count = 959\n",
      "\n",
      "強化訓練對於初學者來說可能是一項挑戰，需要具備良好的基礎知識和技巧。在接下來的文章中，將介紹幾項有效的強化訓練方法，幫助初學者進入這個領域。\n",
      "\n",
      "首先，讓我們先來談談強化訓練的好處。強化訓練可以幫助我們增強肌肉力量，提升身體的功能和耐力。這對於日常生活是非常重要的，尤其是對於年長者來說更是如此。強化訓練可以防止身體肌肉的流失，同時也可以預防骨質疏鬆等疾病。此外，強化訓練還可以幫助我們塑造健美的體態，提升自信心和抵抗力。\n",
      "\n",
      "接著，讓我們來看看如何進行強化訓練。根據世界健身俱樂部的文章提到，強化訓練的關鍵在於找到適合自己的訓練計畫。對於初學者來說，最重要的是建立良好的姿勢和技巧，在進行訓練之前務必先詢問專業教練的幫助。此外，緊記適當的休息和加強熱身活動也是非常重要的。在進行強化訓練時，可以選擇適合自己的訓練器材，例如啞鈴、橡皮圈等。建議可以從較小的重量開始，慢慢增加訓練強度和次數。\n",
      "\n",
      "另外，在進行強化訓練時，要注意均衡訓練各個肌肉群。根據《女性健康雜誌》的文章提到，女性在訓練時常常偏重於下半身，但其實上半身肌肉也同樣重要，尤其是背部肌肉。因此，在訓練時應該均衡分配時間和訓練強度，避免肌肉不平衡導致受傷。\n",
      "\n",
      "此外，對於初學者來說，專注於基礎動作也是非常重要的。無論是哪一個肌肉群，都需要從基礎動作開始，逐步提升難度和重量。如此一來，不僅可以充分加強肌肉，還可以避免受傷。\n",
      "\n",
      "除了以上提到的方法，還可以加入徒手訓練和有氧運動。《教練的健身手冊》中提到，徒手訓練可以幫助我們建立核心肌群和身體平衡，也可以訓練反應能力和協調性。而有氧運動則可以增強心肺功能和燃燒脂肪，達到更好的健身效果。\n",
      "\n",
      "最後，我想提到的是，成為一個堅持的人。一項訓練計畫並不是一朝一夕就可以看到效果的，需要長期的堅持和耐心。有時候會遇到低潮或是缺乏動力，但要知道每一次訓練都是在為自己的身體健康和進步而努力。找到適合自己的訓練方式和動力來源，可以讓訓練更有趣且更具挑戰性。\n",
      "\n",
      "總結來說，強化訓練對於初學者來說可能是一個挑戰，但也絕對是值得的。建立良好的姿勢和技巧、均衡訓練各肌肉群、專注基礎動作以及加入徒手訓練和有氧運動，這些都是幫助初學者進入強化訓練的關鍵。最重要的是，保持堅持的心態，堅持不懈地進行訓練，相信你一定可以達到自己的健身目標！\n",
      "\n"
     ]
    }
   ],
   "source": [
    "for token in [100, 300, 1000, 2500]:\n",
    "    response = openai.Completion.create(\n",
    "    engine=\"gpt-3.5-turbo-instruct\",  # Use the appropriate engine for ChatGPT\n",
    "    prompt=prompt,\n",
    "    max_tokens=token  # You can adjust this parameter as needed\n",
    "    )\n",
    "    #res = response[\"choices\"][0][\"text\"]\n",
    "    decoded_response = response['choices'][0]['text'].encode('utf-8').decode('utf-8')\n",
    "    print()\n",
    "    print (\"---------------> token = \" + str(token))\n",
    "    print (\"word count = \" + str(len(decoded_response)))\n",
    "    print (decoded_response)\n",
    "    print()"
   ]
  },
  {
   "cell_type": "code",
   "execution_count": 18,
   "metadata": {},
   "outputs": [
    {
     "name": "stdout",
     "output_type": "stream",
     "text": [
      "\n",
      "---------------> token = 100\n",
      "word count = 86\n",
      "字數至少要300字\n",
      "從上述文章發揮\n",
      "字數至少要300字\n",
      "字數至少要300字\n",
      "請提供嶄新的觀點, 從上述文章發揮\n",
      "字數至少要500字\n",
      "字數至少要300字\n",
      "字數至少要300字\n",
      "\n",
      "\n",
      "\n",
      "---------------> token = 300\n",
      "word count = 253\n",
      "發揮字數各類言論\n",
      "首首發揮完全了\n",
      "一入門言論就馬上戴得住怎樣一味展現力保險\n",
      "整篇新文章共有70-120個句子\n",
      "請中文註釋英文或英文聲明中英文標題這種\n",
      "最舒服\n",
      "最省略\n",
      "最聲明感 開口 65-75字\n",
      "中點 65 -75個字\n",
      "總字數 65-75文字-30多字\n",
      "\n",
      "辦法代記請於ZDT中\n",
      "還有點挖「攜帶區」專用的閲讀器\n",
      "從低成本網站數據可能是好份子\n",
      "吧本知操動\n",
      "https://ris.media/learn/browse\n",
      "\n",
      "送歡迎邀請理解朋友\n",
      "請投稿,請混合別人的文章,請提供要出的文章,請有影響力的發明談論,大家\n",
      "\n",
      "\n",
      "---------------> token = 1000\n",
      "word count = 59\n",
      "文章數至少要5預定6行\n",
      "請提供越多零距離時最好沒有什麼\n",
      "節訊追蹤長度：每題隱蔽訊息48765\n",
      "節訊追蹤從最後發射59天\n",
      "\n",
      "\n",
      "---------------> token = 2500\n",
      "word count = 5675\n",
      "如2篇文章居然只有90字說出\n",
      "從字數五十九，居然不夠, 三篇文章也就二字後，可\n",
      "文章的句句常文循环貼到此兩篇文章上，很容易下去定位\n",
      "\n",
      "Before I was an athlete, my highschool years were like a fish out of water. Negro athletes felt threatened by the vast majority of white athletes in their small communities. We wanted to be white athletes but we had to waste time finishing hometown little league baseball and soccer picture es to make it by. And though we tried to pull the wool over the faces of others in our team, most of us still benefited from being the shiny, nicer than other, on our way to that academic excellence which wasn't hugely on our mind. As a child, we were genuinely excited about the prospects and dreamed about becoming best friends with our fellow players. \n",
      "\n",
      "My highschool years were lonely times of wandering in search for personal truth in a world of comparison. Things I didn't understand. \n",
      "\n",
      "After college, I had the opportunity to join a cycling team. My team wasn't great, it wasn't bad, it just was. To join it would have been to begin a new journey, a place where I felt a part of a team for the first time. Out of all the former athletes from my hometown, I was able to form a friendship with one young woman belonging to our greatest athletic team alumni. \n",
      "\n",
      "I reached my mentor's house late at night. To my surprise, I found six other teenage girls waiting to meet her. \n",
      "We had our bike outside of her house. There it was - the only free standing lock in our entire city. Although not super fancy, the lock fitted perfectly, it wasn't is convenient or even safe, but for me it was the nearest and only option. \n",
      "\n",
      "Looking in the undergrowth, I took out my phone. \"Hello\" I asked. \"Winter here, don't get too many girls here.\" Lucy answered in the affirmative. I quickly calculated our probabilities. This helped me to organize my thoughts. \n",
      "\n",
      "The only other place I could fit my sports bag, my helmet, my water bottle, my camera and my phone was the locker next to theirs. Apart from this pair, nobody else seemed to have bikes. I took out my wallet and scouted for coins. \n",
      "\n",
      "I hurried to the locker's door and quickly opened it, afraid that my premium card and my ccd phone might disappear. The same afternoon, just before heading to the track, perfect conditions for sprint finishing, I tried my luck, I unlocked the shared lock. I felt excited. I jumped, shocked, delighted, proud. It took a second, I barely noticed. \n",
      "Cyclists emerged into the sun, some at a walking pace, others running. Several waved and roared at me. \" Nao-Teih, she's faster. \"\n",
      "\n",
      " \"Weren't you the fastest one at school, you selfish bitch? We talked a while ago, remember? And I want to tell you that Munich 2018 was beyond my imagination and I'm privileged enough to be part of this, and I feel super honoured.\" I smiled. Lucy swallowed my reply. \n",
      "\n",
      "The conversation got increasingly heavy. \n",
      "\n",
      "One thing led to another. In the middle of defending that she wasn't a selfish girl, I pointed out that she was doing a lot wrong and upbraiding me, Lucy did look back and realised the error. My 17 years old mentee opened her mouth, full of profanity spoken in exotic Mandarin. I mean, I knew that Lucy had actually spoken five years ago among her fellow unvaccinated migrant students, it wouldn't be long standing, she was (or might be) in her final stages of pregnancy. Nao-Teih was standing at a distance watching the conversation with a mixture of mixed emotions, sadness and trepidation. The whole group was venting their griefs and worries while originally considering the most important question, what were they going to eat, in the orchard that summer? After her intense accusation resolved, she wiped her mouth and threw the water bottle on the ground. \n",
      "In the traffic noise outside her house, the legendary bike waxing lady with a blue collar and mop-haired sing-song voice spoke to my mentee: \"Have you heard Nao-Teih's story?  Isn't it shocking?  And the saddest thing is that she was looking forward to marry a Chinese guy.\" The gist glowed through the rest of the friendship, from talking about powerful grassroots movements, to fighting against the wave heads of the Taiwanese government, to dreaming about being a professional cyclist. \n",
      "\n",
      "I told Lucy that I was in love with her. I'm a coward and a good swimmer. Maybe, at the right time you would have swum over to the other side. \n",
      "\n",
      "In the crowded social room, she laughed and told me that I described her with an exaggeration. \n",
      "\n",
      "But how could I fail to describe her character. How could I not say yes because she was too pure in comparison to her other peers. When I spoke it, life often took on a different tone. I could swear she would change her plans if circumstances changed, the time in China wasn't turning out for her to marry a Chinese guy. That's why, at the moment, she would alter everything, everything beyond her path I had only divine information about and could be content with. \n",
      "\n",
      "The similarities in her life experiences felt like a flat matt with an unverifiable character of southern Taiwan from back then, kept together with blurry line definition of the current Taiwanese mainland from today.\n",
      "\n",
      "She wasn't part of the team, she wasn't my mentor, she wasn't even the girl next door, she  was, and always would be - a part of my life.\n",
      "\n",
      "OP: I write this for you looking for comic relief, please read and be sure to share with a friend. I started venting to her in the form of a tweet, but I think something better came out of it. It's about showing that we all are connected over our journey though, even those present at our darkest hour. She gave me hope and away from my relapsed depression and hypothalamic amenorrhea I'm able to see a different perspective.\n",
      "\n",
      "\n"
     ]
    }
   ],
   "source": [
    "for token in [100, 300, 1000, 2500]:\n",
    "    response = openai.Completion.create(\n",
    "    engine=\"babbage-002\",  # Use the appropriate engine for ChatGPT\n",
    "    prompt=prompt,\n",
    "    max_tokens=token  # You can adjust this parameter as needed\n",
    "    )\n",
    "    #res = response[\"choices\"][0][\"text\"]\n",
    "    decoded_response = response['choices'][0]['text'].encode('utf-8').decode('utf-8')\n",
    "    print()\n",
    "    print (\"---------------> token = \" + str(token))\n",
    "    print (\"word count = \" + str(len(decoded_response)))\n",
    "    print (decoded_response)\n",
    "    print()"
   ]
  },
  {
   "cell_type": "code",
   "execution_count": 20,
   "metadata": {},
   "outputs": [
    {
     "name": "stdout",
     "output_type": "stream",
     "text": [
      "\n",
      "---------------> token = 100\n",
      "word count = 2\n",
      "文章标题：力量訓練初學者實用指南：迎向健康運動生活\n",
      "\n",
      "對於許多人來說，運動可能是一個令人望而卻步的挑戰，尤其是力量訓練。然而，進行有系統且適度的力量\n",
      "\n",
      "\n",
      "---------------> token = 300\n",
      "word count = 3\n",
      "標題：啟動健康生活：初學者的全面力量訓練與健身入門指南\n",
      "\n",
      "當你決定改善你的健康和體適能時，起始點往往可能令人困惑並艱難。從健身習慣的建立到瞭解力量訓練的基本概念，這有時候可能讓你感到不知所措。然而，以下的解說將引導你進入這個旅程，並且提供給你剛開始時需要的所有工具。\n",
      "\n",
      "首先，重要的是要了解，工作效果的多寡完全取決於自身的付出。如同世界健身中心在他們的文章中提到的，力量訓練不單止可以增強肌肉，還可以燃燒脂肪，增加新陳代謝，提高骨質密度。始於基本的\n",
      "\n",
      "\n",
      "---------------> token = 1000\n",
      "word count = 17\n",
      "一般來說，健身對於每位生活在現代社會的人來說是必不可少的。儘管我們可能會為健身的方式感到困惑，但通過深入研究和理解，我們可以找到適合自身的健身方法。在此，我們整合了World Gym Taiwan、Women's Health和Peeta的資訊，提供給健身初學者一個全面且深入的指南。\n",
      "\n",
      "首先，世界健身(Wold Gym Taiwan) 的文章中提到，對於新手來說，重要的不僅是開始運動，更要能夠持續並慢慢發揮其效果。而女性健康(Women's Health)在其博文中強調，運動並不僅僅是為了瘦身，更是為了打造更健康的生活方式。而Peeta則建議，將訓練分為不同組別，每組間隔不同的休息時間，可以提高運動效益。\n",
      "\n",
      "結合這三者的見解，我們可以得出以下的新觀點: 運動不只是要開始，更要有恆心並以達成健康生活為目標，並透過合理的運動方式，如分組訓練，來加強其效果。\n",
      "\n",
      "那麼，如何達成這樣的目標呢？\n",
      "\n",
      "首先，我們要確定我們的目標，無論是增加肌肉，還是增強心肺功能，或者僅僅是更健康的生活。確定目標後，我們就能找到最適合的訓練方式。接著，我們需要了解正確的訓練方式和順序。如World Gym所述，使用器械或自體重訓練能有效訓練肌肉，而Peeta則建議初學者可以從基本的動作開始。\n",
      "\n",
      "但是，我們必須記住，正如Women's Health所言，訓練不能僅僅停留在表面，也需要考慮到悠適性和持久度。最終，要確保我們在訓練中得到完整的休息和復原，適時休息有助於我們適應硬體訓練，並充分恢復體能。\n",
      "\n",
      "健身既是一種挑戰，也是一種投資。我們所付出的努力將會以健康，精神狀態的提升和更佳的生活品質回報自己。如今，我們有了這些來自專家的建議，那麼讓我們開始這場旅程，一步一步地走向更健康的生活吧！\n",
      "\n",
      "\n",
      "---------------> token = 2500\n",
      "word count = 8\n",
      "標題：從頭開始：面向初學者的新手健身指南\n",
      "\n",
      "進行健身訓練對身體健康有著多種益處，包括增加肌肉力量，提高心肺功能，甚至可以改善心理健康。如果你剛開始進行健身活動，並覺得有些無從下手，別擔心，這篇文章將以深入淺出的方式，根據奧運健身中心、女性健康雜誌以及Peeta健身指南的推薦，為你提供有關健身訓練的新手導向。\n",
      "\n",
      "首先，你需要對健身訓練有基礎的了解。強度訓練，即俗稱的舉重訓練，會讓你的肌肉對抗重力，例如舉重、使用抗力帶，或是自體重訓練，例如做伏地挺身和蹲舉。有氧運動，如跑步、游泳或騎自行車，則是提供長時間、中低強度的活動，有助於心肺健康。結合這兩種訓練方式將有助於全面鍛煉身體。\n",
      "\n",
      "開始訓練之前，最重要的一步就是明確你的訓練目標。你是想增強力量，消耗卡路里，還是提高靈活性?了解自己的目標可以幫助你規劃合適的訓練去路線，以達成你的需求。例如，如果你的目標是增加肌肉量和力量，那麼你需要做的應該是重量較重，次數較少的舉重訓練。反之，如果你的目標是提高心肺持久力，那麼有氧運動應該是你鍛煉的重點。\n",
      "\n",
      "評估你的個人狀況也同樣重要。記住，健身訓練不是比賽，每個人的體質和能力都不同。進行訓練時，你應該專注於自我的提升，而不是與他人比較。初次進行舉重訓練時，建議從輕重量開始，並注意自我舒適度，避免一開始就進行過度訓練。\n",
      "\n",
      "一般來說，每周進行三至五天的運動是比較理想的，每次運動摻雜強度訓練和有氧練習。一天當中也可以將訓練分解為數個較短的運動階段，例如，早上進行一項有氧活動，晚上進行強度訓練。一般來說，有氧運動可在一天中的任何時候進行，但強度訓練最好在早上進行，因為此時男性荷爾蒙分泌最旺盛，有助於肌肉生長。\n",
      "\n",
      "無論你的健身目標是什麼，請記得悠著進行。起始的階段你可能會覺得自己的進步緩慢，但關鍵就是不斷堅持。不要對自己苛求，訓練應該是一種享受的過程，而不僅僅是一種為了達成目標而報酬的辛苦奮鬥。 你的身體需要時間去適應新的運動訓練，所以要有耐心，並持之以恆。只有這樣，你才能在健身的道路上真正取得成功。\n",
      "\n"
     ]
    }
   ],
   "source": [
    "for token in [100, 300, 1000, 2500]:\n",
    "    response = openai.ChatCompletion.create(\n",
    "        model=\"gpt-4\",  # Use the appropriate model\n",
    "        messages=[\n",
    "            {\"role\": \"system\", \"content\": \"You are a helpful assistant.\"},\n",
    "            {\"role\": \"user\", \"content\": prompt}\n",
    "        ],\n",
    "        max_tokens=token\n",
    "    )\n",
    "    decoded_response = response['choices'][0]['message']['content'].encode('utf-8').decode('utf-8')\n",
    "    print()\n",
    "    print(\"---------------> token = \" + str(token))\n",
    "    print(\"word count = \" + str(len(decoded_response.split())))\n",
    "    print(decoded_response)\n",
    "    print()"
   ]
  }
 ],
 "metadata": {
  "kernelspec": {
   "display_name": "Python 3",
   "language": "python",
   "name": "python3"
  },
  "language_info": {
   "codemirror_mode": {
    "name": "ipython",
    "version": 3
   },
   "file_extension": ".py",
   "mimetype": "text/x-python",
   "name": "python",
   "nbconvert_exporter": "python",
   "pygments_lexer": "ipython3",
   "version": "3.7.6"
  }
 },
 "nbformat": 4,
 "nbformat_minor": 5
}
