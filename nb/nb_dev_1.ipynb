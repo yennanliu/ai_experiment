{
 "cells": [
  {
   "cell_type": "code",
   "execution_count": 1,
   "metadata": {},
   "outputs": [],
   "source": [
    "#------------------------------------------------------------------------\n",
    "# Ref \n",
    "#------------------------------------------------------------------------\n",
    "\n",
    "# https://sites.google.com/view/zsgititit/home/ji-qi-xue-xi/%E4%BD%BF%E7%94%A8python%E7%B6%93%E7%94%B1chatgpt-api%E9%80%B2%E8%A1%8C%E5%95%8F%E7%AD%94\n",
    "\n",
    "# https://platform.openai.com/api-keys\n",
    "\n",
    "# https://learn.deeplearning.ai/chatgpt-prompt-eng/lesson/4/summarizing\n"
   ]
  },
  {
   "cell_type": "code",
   "execution_count": 1,
   "metadata": {
    "scrolled": true
   },
   "outputs": [],
   "source": [
    "# use openai==0.28 for old API\n",
    "\n",
    "\n",
    "#!pip uninstall openai\n",
    "#!pip install openai==0.28"
   ]
  },
  {
   "cell_type": "code",
   "execution_count": 9,
   "metadata": {},
   "outputs": [],
   "source": [
    "api_key=\"\""
   ]
  },
  {
   "cell_type": "code",
   "execution_count": 7,
   "metadata": {},
   "outputs": [],
   "source": [
    "import openai\n",
    "import os"
   ]
  },
  {
   "cell_type": "code",
   "execution_count": null,
   "metadata": {},
   "outputs": [],
   "source": [
    "#----------------------------\n",
    "# Basic API Test\n",
    "#----------------------------"
   ]
  },
  {
   "cell_type": "code",
   "execution_count": 19,
   "metadata": {},
   "outputs": [
    {
     "name": "stdout",
     "output_type": "stream",
     "text": [
      "{\n",
      "  \"id\": \"cmpl-8hgMe6Ewpqi4Zuu1ruuf7zno8piV1\",\n",
      "  \"object\": \"text_completion\",\n",
      "  \"created\": 1705421644,\n",
      "  \"model\": \"gpt-3.5-turbo-instruct\",\n",
      "  \"choices\": [\n",
      "    {\n",
      "      \"text\": \"\\n\\nWhy don't scientists trust atoms?\\n\\nBecause they make up everything.\",\n",
      "      \"index\": 0,\n",
      "      \"logprobs\": null,\n",
      "      \"finish_reason\": \"stop\"\n",
      "    }\n",
      "  ],\n",
      "  \"usage\": {\n",
      "    \"prompt_tokens\": 5,\n",
      "    \"completion_tokens\": 14,\n",
      "    \"total_tokens\": 19\n",
      "  }\n",
      "}\n"
     ]
    }
   ],
   "source": [
    "# Call the ChatGPT API\n",
    "\n",
    "openai.api_key = api_key\n",
    "\n",
    "prompt = \"Tell me a joke.\"\n",
    "\n",
    "# Call the ChatGPT API using the new ChatCompletion interface\n",
    "response = openai.Completion.create(\n",
    "    engine=\"gpt-3.5-turbo-instruct\",  # Use the appropriate engine for ChatGPT\n",
    "    prompt=prompt,\n",
    "    max_tokens=100  # You can adjust this parameter as needed\n",
    ")\n",
    "\n",
    "# Print the generated response\n",
    "#print(response['choices'][0]['message']['content'])\n",
    "print(response)"
   ]
  },
  {
   "cell_type": "code",
   "execution_count": 23,
   "metadata": {},
   "outputs": [
    {
     "name": "stdout",
     "output_type": "stream",
     "text": [
      "\n",
      "\n",
      "Why don't scientists trust atoms?\n",
      "\n",
      "Because they make up everything.\n"
     ]
    }
   ],
   "source": [
    "print(response[\"choices\"][0][\"text\"])"
   ]
  },
  {
   "cell_type": "code",
   "execution_count": null,
   "metadata": {},
   "outputs": [],
   "source": []
  },
  {
   "cell_type": "code",
   "execution_count": null,
   "metadata": {},
   "outputs": [],
   "source": [
    "#----------------------------\n",
    "# Generate a Simple Post\n",
    "#----------------------------"
   ]
  },
  {
   "cell_type": "code",
   "execution_count": 25,
   "metadata": {},
   "outputs": [
    {
     "name": "stdout",
     "output_type": "stream",
     "text": [
      "{\n",
      "  \"id\": \"cmpl-8hgOXdj5MfrS4hEB6JfIbWDHuG3Ph\",\n",
      "  \"object\": \"text_completion\",\n",
      "  \"created\": 1705421761,\n",
      "  \"model\": \"gpt-3.5-turbo-instruct\",\n",
      "  \"choices\": [\n",
      "    {\n",
      "      \"text\": \" about the benefits of regular exercise\\n\\nRegular exercise is essential for maintaining a healthy and balanced lifestyle. Not only does it help in keeping your body fit and toned, but it also has numerous benefits for your overall health and well-being. In this article, we will discuss some of the top benefits of regular exercise and why it should be an integral part of your daily routine.\\n\\n1. Improved Physical Health:\\n\\nThe most obvious benefit of regular exercise is its positive impact on physical health. Engaging in physical\",\n",
      "      \"index\": 0,\n",
      "      \"logprobs\": null,\n",
      "      \"finish_reason\": \"length\"\n",
      "    }\n",
      "  ],\n",
      "  \"usage\": {\n",
      "    \"prompt_tokens\": 5,\n",
      "    \"completion_tokens\": 100,\n",
      "    \"total_tokens\": 105\n",
      "  }\n",
      "}\n"
     ]
    }
   ],
   "source": [
    "prompt = \"please generate a SEO post\"\n",
    "\n",
    "# Call the ChatGPT API using the new ChatCompletion interface\n",
    "response = openai.Completion.create(\n",
    "    engine=\"gpt-3.5-turbo-instruct\",  # Use the appropriate engine for ChatGPT\n",
    "    prompt=prompt,\n",
    "    max_tokens=100  # You can adjust this parameter as needed\n",
    ")\n",
    "\n",
    "print(response)"
   ]
  },
  {
   "cell_type": "code",
   "execution_count": 26,
   "metadata": {},
   "outputs": [
    {
     "name": "stdout",
     "output_type": "stream",
     "text": [
      " about the benefits of regular exercise\n",
      "\n",
      "Regular exercise is essential for maintaining a healthy and balanced lifestyle. Not only does it help in keeping your body fit and toned, but it also has numerous benefits for your overall health and well-being. In this article, we will discuss some of the top benefits of regular exercise and why it should be an integral part of your daily routine.\n",
      "\n",
      "1. Improved Physical Health:\n",
      "\n",
      "The most obvious benefit of regular exercise is its positive impact on physical health. Engaging in physical\n"
     ]
    }
   ],
   "source": [
    "print(response[\"choices\"][0][\"text\"])"
   ]
  },
  {
   "cell_type": "code",
   "execution_count": null,
   "metadata": {},
   "outputs": [],
   "source": []
  },
  {
   "cell_type": "code",
   "execution_count": null,
   "metadata": {},
   "outputs": [],
   "source": [
    "#----------------------------\n",
    "# Generate a Simple Post\n",
    "#----------------------------"
   ]
  },
  {
   "cell_type": "code",
   "execution_count": 27,
   "metadata": {},
   "outputs": [
    {
     "name": "stdout",
     "output_type": "stream",
     "text": [
      "{\n",
      "  \"id\": \"cmpl-8hgTb567QrsycccGBGAb66c42CxbU\",\n",
      "  \"object\": \"text_completion\",\n",
      "  \"created\": 1705422075,\n",
      "  \"model\": \"gpt-3.5-turbo-instruct\",\n",
      "  \"choices\": [\n",
      "    {\n",
      "      \"text\": \"\\nTaiwan President Election: Impact on Semi-Conductor Industry and Regional Balance\\n\\nThe recent presidential election in Taiwan has garnered global attention, with major implications for the country's semi-conductor industry and international relations. President Tsai Ing-wen of the Democratic Progressive Party (DPP) secured a landslide victory against her opponent Han Kuo-yu of the Kuomintang (KMT) party, in a historic win for Taiwan's pro-independence camp. The implications of this election go beyond\",\n",
      "      \"index\": 0,\n",
      "      \"logprobs\": null,\n",
      "      \"finish_reason\": \"length\"\n",
      "    }\n",
      "  ],\n",
      "  \"usage\": {\n",
      "    \"prompt_tokens\": 46,\n",
      "    \"completion_tokens\": 100,\n",
      "    \"total_tokens\": 146\n",
      "  }\n",
      "}\n"
     ]
    }
   ],
   "source": [
    "prompt = \"\"\"Please generate a SEO post with key words :\n",
    "  1) Taiwan president election\n",
    "  2) Semi-conductor\n",
    "  3) international relation\n",
    "  4) regional balance\n",
    "  \n",
    "  Must have 400 words\n",
    "\"\"\"\n",
    "\n",
    "# Call the ChatGPT API using the new ChatCompletion interface\n",
    "response = openai.Completion.create(\n",
    "    engine=\"gpt-3.5-turbo-instruct\",  # Use the appropriate engine for ChatGPT\n",
    "    prompt=prompt,\n",
    "    max_tokens=100  # You can adjust this parameter as needed\n",
    ")\n",
    "\n",
    "print(response)"
   ]
  },
  {
   "cell_type": "code",
   "execution_count": 28,
   "metadata": {},
   "outputs": [
    {
     "name": "stdout",
     "output_type": "stream",
     "text": [
      "\n",
      "Taiwan President Election: Impact on Semi-Conductor Industry and Regional Balance\n",
      "\n",
      "The recent presidential election in Taiwan has garnered global attention, with major implications for the country's semi-conductor industry and international relations. President Tsai Ing-wen of the Democratic Progressive Party (DPP) secured a landslide victory against her opponent Han Kuo-yu of the Kuomintang (KMT) party, in a historic win for Taiwan's pro-independence camp. The implications of this election go beyond\n"
     ]
    }
   ],
   "source": [
    "print(response[\"choices\"][0][\"text\"])"
   ]
  },
  {
   "cell_type": "code",
   "execution_count": null,
   "metadata": {},
   "outputs": [],
   "source": []
  },
  {
   "cell_type": "code",
   "execution_count": null,
   "metadata": {},
   "outputs": [],
   "source": [
    "#----------------------------\n",
    "# Mix some artitcles\n",
    "#----------------------------"
   ]
  },
  {
   "cell_type": "code",
   "execution_count": 39,
   "metadata": {},
   "outputs": [],
   "source": [
    "prompt = \"\"\"Please mix below 3 posts\n",
    "\n",
    "\n",
    "1) Kubernetes is an open-source container orchestration system for automating software deployment, scaling, and management. Originally designed by Google, the project is now maintained by the Cloud Native Computing Foundation. \n",
    "2) MLOps or ML Ops is a paradigm that aims to deploy and maintain machine learning models in production reliably and efficiently. The word is a compound of \"machine learning\" and the continuous development practice of DevOps in the software field.\n",
    "3) Amazon SageMaker is a cloud based machine-learning platform that allows the creation, training, and deployment by developers of machine-learning models on the cloud. It can be used to deploy ML models on embedded systems and edge-devices. \n",
    "\n",
    "\n",
    "  Must offer insightful ideas\n",
    "  Must offer new perspective\n",
    "  \n",
    "  pleae offer result in 3000 words\n",
    "\"\"\"\n",
    "\n",
    "# Call the ChatGPT API using the new ChatCompletion interface\n",
    "response = openai.Completion.create(\n",
    "    engine=\"gpt-3.5-turbo-instruct\",  # Use the appropriate engine for ChatGPT\n",
    "    prompt=prompt,\n",
    "    max_tokens=300  # You can adjust this parameter as needed\n",
    ")\n",
    "\n",
    "#print(response)"
   ]
  },
  {
   "cell_type": "code",
   "execution_count": null,
   "metadata": {},
   "outputs": [],
   "source": []
  },
  {
   "cell_type": "code",
   "execution_count": 41,
   "metadata": {},
   "outputs": [
    {
     "name": "stdout",
     "output_type": "stream",
     "text": [
      "\n",
      "---------> token = 100\n",
      "\n",
      "Kubernetes has revolutionized the way modern software is deployed and managed. It is an open-source container orchestration system that was originally designed by Google and is now maintained by the Cloud Native Computing Foundation. With its vast range of features and capabilities, Kubernetes has become a popular choice among developers for automating the deployment and scaling of software applications. However, as organizations embrace Kubernetes for their development process, the need for efficient and reliable management of machine learning (ML) models in production has become increasingly important. This is where MLOps or ML Ops comes into picture.\n",
      "\n",
      "MLOps is a paradigm that combines the principles of DevOps with the unique challenges of machine learning models. In simple terms, it is a practice that aims to deploy, monitor, and maintain ML models in production in an automated and efficient manner. MLOps is a relatively new field that is gaining momentum in the tech industry, thanks to the rapid growth of artificial intelligence and machine learning. The term itself is a combination of \"machine learning\" and DevOps, a well-known practice in the software development world. MLOps offers a systematic and streamlined approach to managing machine learning models, ensuring that they are consistently available and providing accurate results. In this article, we will delve deeper into MLOps and discuss how it can benefit organizations and offer a new perspective on deploying and managing machine learning models.\n",
      "\n",
      "The need for MLOps\n",
      "With the proliferation of big data and the success of machine learning in various industries, businesses\n",
      "\n",
      "\n",
      "---------> token = 300\n",
      "\n",
      "Kubernetes and MLOps: Disrupting the Future of Machine Learning Deployment with Amazon SageMaker\n",
      "\n",
      "The field of machine learning has revolutionized the way we approach complex problems and has given rise to groundbreaking applications such as self-driving cars, voice recognition, and natural language processing. However, despite these exciting developments, the process of deploying and maintaining machine learning models in production remains a major challenge for many organizations. This is where Kubernetes and MLOps come into play, offering new perspectives and disruptive solutions that are transforming the future of machine learning deployment. And when combined with Amazon SageMaker, the possibilities for greater efficiency and reliability are endless.\n",
      "\n",
      "Kubernetes: Efficient Orchestration for ML Deployments\n",
      "\n",
      "Kubernetes is an open-source container orchestration system that was initially developed by Google and is now maintained by the Cloud Native Computing Foundation. It has gained immense popularity for its ability to automate the deployment, scaling, and management of containerized applications. With its advanced features like self-healing, auto-scaling, and rolling updates, Kubernetes has become the go-to platform for organizations looking to modernize their application development and deployment processes.\n",
      "\n",
      "But the benefits of Kubernetes extend far beyond traditional software applications. With the rising adoption of machine learning, organizations are realizing the need for a more efficient and automated way to manage their ML deployments. Traditional methods of deploying and managing ML models on virtual machines are time-consuming, error-prone, and lack scalability. This is where Kubernetes shines, offering a reliable and efficient way\n",
      "\n",
      "\n",
      "---------> token = 1000\n",
      " \n",
      "Kubernetes, MLOps, and Amazon SageMaker are three key technologies that have revolutionized the way we approach software deployment and machine learning. With the rapid growth and advancements in technology, these tools have become essential in keeping up with the constantly evolving landscape of modern software development and AI-driven applications.\n",
      "\n",
      "Kubernetes, also known as K8s, is an open-source container orchestration system that enables automation of software deployment, scaling, and management. Originally created by Google and now maintained by the Cloud Native Computing Foundation, Kubernetes has become the de facto standard for managing containerized applications. It provides a platform-agnostic solution for managing workloads in a dynamic and elastic environment. With its robust features and capabilities, Kubernetes has greatly simplified the process of deploying, scaling, and managing complex applications.\n",
      "\n",
      "MLOps, on the other hand, is a relatively new concept that merges the principles of DevOps with machine learning. It focuses on creating a seamless and reliable process for deploying and maintaining machine learning models in production. The need for MLOps arises from the challenges faced by data science and software engineering teams when working together. While DevOps focuses on continuous integration and delivery, machine learning models require a different approach due to their complex and dynamic nature. MLOps aims to bridge this gap and provide a standardized and efficient framework for deploying and maintaining machine learning models in production.\n",
      "\n",
      "Lastly, Amazon SageMaker is a cloud-based machine learning platform that facilitates the creation, training, and deployment of machine learning models\n",
      "\n"
     ]
    }
   ],
   "source": [
    "for token in [100, 300, 1000]:\n",
    "    response = openai.Completion.create(\n",
    "    engine=\"gpt-3.5-turbo-instruct\",  # Use the appropriate engine for ChatGPT\n",
    "    prompt=prompt,\n",
    "    max_tokens=300  # You can adjust this parameter as needed\n",
    "    )\n",
    "    print()\n",
    "    print (\"---------> token = \" + str(token))\n",
    "    print(response[\"choices\"][0][\"text\"])\n",
    "    print()"
   ]
  },
  {
   "cell_type": "code",
   "execution_count": 42,
   "metadata": {},
   "outputs": [
    {
     "name": "stdout",
     "output_type": "stream",
     "text": [
      "1751\n"
     ]
    }
   ],
   "source": [
    "print (len(response[\"choices\"][0][\"text\"]))"
   ]
  },
  {
   "cell_type": "code",
   "execution_count": null,
   "metadata": {},
   "outputs": [],
   "source": []
  }
 ],
 "metadata": {
  "kernelspec": {
   "display_name": "Python 3",
   "language": "python",
   "name": "python3"
  },
  "language_info": {
   "codemirror_mode": {
    "name": "ipython",
    "version": 3
   },
   "file_extension": ".py",
   "mimetype": "text/x-python",
   "name": "python",
   "nbconvert_exporter": "python",
   "pygments_lexer": "ipython3",
   "version": "3.7.6"
  }
 },
 "nbformat": 4,
 "nbformat_minor": 4
}
