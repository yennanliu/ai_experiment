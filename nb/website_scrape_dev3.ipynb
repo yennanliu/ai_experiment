{
 "cells": [
  {
   "cell_type": "code",
   "execution_count": 16,
   "id": "d2acc273-14f1-47b7-a64f-20fdee43dd96",
   "metadata": {},
   "outputs": [],
   "source": [
    "import requests\n",
    "from bs4 import BeautifulSoup\n",
    "from datetime import datetime, timedelta\n",
    "\n",
    "from selenium import webdriver\n",
    "from selenium.webdriver.common.keys import Keys\n",
    "import time"
   ]
  },
  {
   "cell_type": "code",
   "execution_count": 15,
   "id": "efd23de9-71c6-4f4c-b94e-0c2a32f3e660",
   "metadata": {},
   "outputs": [],
   "source": [
    "#!pip install selenium"
   ]
  },
  {
   "cell_type": "code",
   "execution_count": 2,
   "id": "0ffdf66a-d236-4f51-a85d-51783c3f1143",
   "metadata": {},
   "outputs": [],
   "source": [
    "BASE_URL=\"https://www.twblogs.net\"\n",
    "url_list = []\n",
    "html_content = []\n",
    "title_list = []"
   ]
  },
  {
   "cell_type": "code",
   "execution_count": 7,
   "id": "748bcf89-258e-43ad-816b-5cb837ba94db",
   "metadata": {},
   "outputs": [],
   "source": [
    "def get_to_scrape_urls(url):\n",
    "    print(\"url = \" + str(url))\n",
    "    # URL of the website\n",
    "    #url = \"https://www.twblogs.net/c/5b7a8bb62b7177392c9643c0/\"\n",
    "    # Send a GET request to the URL\n",
    "    response = requests.get(url)\n",
    "    # Check if the request was successful (status code 200)\n",
    "    if response.status_code == 200:\n",
    "        # Parse the HTML content of the response\n",
    "        soup = BeautifulSoup(response.content, \"html.parser\")\n",
    "        #print(\"soup = \" + str(soup))\n",
    "        elements = soup.find_all(\"a\", class_=\"\", attrs={\"data-post-id\": True})\n",
    "        for element in elements:\n",
    "            print (\"Title = \" + str(element.text.strip()))\n",
    "            print (\"Href = \" +  str(element[\"href\"]))\n",
    "            print(\"data-post-id = \" + str(element[\"data-post-id\"]))\n",
    "            print (\"\")\n",
    "            url_list.append(BASE_URL + element[\"href\"])\n",
    "            title_list.append(element.text.strip())\n",
    "    else:\n",
    "        print(\"Failed to retrieve data from the website\")\n",
    "   "
   ]
  },
  {
   "cell_type": "code",
   "execution_count": 8,
   "id": "8381a72c-2d16-4f21-9aaa-c63796debe6a",
   "metadata": {
    "scrolled": true
   },
   "outputs": [
    {
     "name": "stdout",
     "output_type": "stream",
     "text": [
      "url = https://www.twblogs.net/c/5b7a8bb62b7177392c9643c0/\n",
      "Title = No more authentication methods to try,Permission denied (publickey)\n",
      "Href = /a/655c0d8111e799a696441051\n",
      "data-post-id = 655c0d8111e799a696441051\n",
      "\n",
      "Title = linux有磁盤空間卻顯示不足 linux中inode使用率過高處理辦法 linux中inode使用率過高處理辦法\n",
      "Href = /a/63a7eb3f5c7498a761273b28\n",
      "data-post-id = 63a7eb3f5c7498a761273b28\n",
      "\n",
      "Title = Unixbench：簡介及使用【轉】\n",
      "Href = /a/62bd44465e837c93f8324a03\n",
      "data-post-id = 62bd44465e837c93f8324a03\n",
      "\n",
      "Title = linux下kill殺死進程的命令\n",
      "Href = /a/5faa267544112d8d9c8e8ae2\n",
      "data-post-id = 5faa267544112d8d9c8e8ae2\n",
      "\n",
      "Title = 基於tiny4412的Linux內核移植 -- 設備樹的展開【轉】\n",
      "Href = /a/5f91169976685a853434407c\n",
      "data-post-id = 5f91169976685a853434407c\n",
      "\n",
      "Title = 增加FastDfs多文件存儲路徑\n",
      "Href = /a/5f054d83446d08bbe452b6df\n",
      "data-post-id = 5f054d83446d08bbe452b6df\n",
      "\n",
      "Title = supervisor管理redis，mysql進程\n",
      "Href = /a/5f054d83446d08bbe452b6dd\n",
      "data-post-id = 5f054d83446d08bbe452b6dd\n",
      "\n",
      "Title = CentOS 安裝 SVN1.7.7\n",
      "Href = /a/5f054d3ab18dc407ccf04eb5\n",
      "data-post-id = 5f054d3ab18dc407ccf04eb5\n",
      "\n",
      "Title = linux下禁止用戶使用密碼方式登陸，而使用密鑰方式登陸\n",
      "Href = /a/5f054d39ca069a6e811d32a3\n",
      "data-post-id = 5f054d39ca069a6e811d32a3\n",
      "\n",
      "Title = find的用法：find查找指定文件和文件夾，設置爲指定用戶和用戶組\n",
      "Href = /a/5f054d2a446d08bbe452b6d2\n",
      "data-post-id = 5f054d2a446d08bbe452b6d2\n",
      "\n",
      "Title = centos創建應用快捷方式文件的語法\n",
      "Href = /a/5f054c8daa6c875367aefa6d\n",
      "data-post-id = 5f054c8daa6c875367aefa6d\n",
      "\n",
      "Title = 關於IP地址與主機名映射的/etc/hosts文件配置\n",
      "Href = /a/5f054c8cd0ea5f7339693aaa\n",
      "data-post-id = 5f054c8cd0ea5f7339693aaa\n",
      "\n",
      "Title = linux CentOS7 mysql 源碼安裝和rpm安裝\n",
      "Href = /a/5f054c34d01354d745cf500b\n",
      "data-post-id = 5f054c34d01354d745cf500b\n",
      "\n",
      "Title = 阿里年薪破百架構師推薦：鳥哥的Linux私房菜，搭配面試題，真香\n",
      "Href = /a/5f054b32ca069a6e811d325b\n",
      "data-post-id = 5f054b32ca069a6e811d325b\n",
      "\n",
      "Title = 臨時設置環境變量（python和Linux命令行）\n",
      "Href = /a/5f054a8a446d08bbe452b675\n",
      "data-post-id = 5f054a8a446d08bbe452b675\n",
      "\n"
     ]
    }
   ],
   "source": [
    "# URL of the website\n",
    "url = \"https://www.twblogs.net/c/5b7a8bb62b7177392c9643c0/\"\n",
    "get_to_scrape_urls(url)"
   ]
  },
  {
   "cell_type": "code",
   "execution_count": 9,
   "id": "bd7123ea-05d3-498d-9ccd-ffaea4724cbc",
   "metadata": {},
   "outputs": [
    {
     "name": "stdout",
     "output_type": "stream",
     "text": [
      "url = https://www.twblogs.net/api/list/?path=category&id=5b7a8bb62b7177392c9643c0&postoffset=5f052ec9ca069a6e811d2f30\n",
      "Title = 如何在 CentOS 8 上安裝 Python 3.8\n",
      "Href = /a/5f052d61446d08bbe452b314\n",
      "data-post-id = 5f052d61446d08bbe452b314\n",
      "\n",
      "Title = Centos 7搭建Gitlab服務器詳細步驟（搭建成功）\n",
      "Href = /a/5f052a32446d08bbe452b2db\n",
      "data-post-id = 5f052a32446d08bbe452b2db\n",
      "\n",
      "Title = 面試必備：對 select，poll，epoll 的詳細解析\n",
      "Href = /a/5f0529c4446d08bbe452b2ce\n",
      "data-post-id = 5f0529c4446d08bbe452b2ce\n",
      "\n",
      "Title = 工作中linux命令，Windows命令\n",
      "Href = /a/5f0529bdb18dc407ccf04aa8\n",
      "data-post-id = 5f0529bdb18dc407ccf04aa8\n",
      "\n",
      "Title = Linux 下 Apache 模塊開發\n",
      "Href = /a/5f0529791a766f6a61d0e0f3\n",
      "data-post-id = 5f0529791a766f6a61d0e0f3\n",
      "\n",
      "Title = JVM內存N個問題的最全解析\n",
      "Href = /a/5f0528ced0ea5f7339693683\n",
      "data-post-id = 5f0528ced0ea5f7339693683\n",
      "\n",
      "Title = ssh服務離線和在線升級方案\n",
      "Href = /a/5f05286c8df3764a8335f3d1\n",
      "data-post-id = 5f05286c8df3764a8335f3d1\n",
      "\n",
      "Title = centos7搭建nexus3\n",
      "Href = /a/5f05286c1a766f6a61d0e0cd\n",
      "data-post-id = 5f05286c1a766f6a61d0e0cd\n",
      "\n",
      "Title = 常用語句命令（ing）\n",
      "Href = /a/5f0523a254de47abadd9c154\n",
      "data-post-id = 5f0523a254de47abadd9c154\n",
      "\n",
      "Title = Android中計算座標變換速度的原理\n",
      "Href = /a/5f05235cb18dc407ccf04a03\n",
      "data-post-id = 5f05235cb18dc407ccf04a03\n",
      "\n",
      "Title = 磁盤修復相關整理\n",
      "Href = /a/5f05233aaa6c875367aef5f2\n",
      "data-post-id = 5f05233aaa6c875367aef5f2\n",
      "\n",
      "Title = KVM虛擬機添加磁盤空間\n",
      "Href = /a/5f0521f5582aa9cf0b1b763f\n",
      "data-post-id = 5f0521f5582aa9cf0b1b763f\n",
      "\n",
      "Title = Linux設置用戶命令別名\n",
      "Href = /a/5f0521f51a766f6a61d0e04f\n",
      "data-post-id = 5f0521f51a766f6a61d0e04f\n",
      "\n",
      "Title = kvm 虛擬機常用命令\n",
      "Href = /a/5f0521f58df3764a8335f33d\n",
      "data-post-id = 5f0521f58df3764a8335f33d\n",
      "\n",
      "Title = 第三階段應用層——1.9 數碼相冊—在LCD上顯示BMP圖片\n",
      "Href = /a/5f051f4fb18dc407ccf049be\n",
      "data-post-id = 5f051f4fb18dc407ccf049be\n",
      "\n"
     ]
    }
   ],
   "source": [
    "# URL of the website\n",
    "url = \"https://www.twblogs.net/api/list/?path=category&id=5b7a8bb62b7177392c9643c0&postoffset=5f052ec9ca069a6e811d2f30\"\n",
    "get_to_scrape_urls(url)"
   ]
  },
  {
   "cell_type": "code",
   "execution_count": 19,
   "id": "34072b0c-21ad-40c0-8bae-3e858df5cd43",
   "metadata": {},
   "outputs": [],
   "source": [
    "# # URL of the website\n",
    "# url = \"https://www.twblogs.net/api/list/?path=category&id=5b7a8bb62b7177392c9643c0&postoffset=5f051f4fb18dc407ccf049be\"\n",
    "# get_to_scrape_urls(url)\n"
   ]
  },
  {
   "cell_type": "code",
   "execution_count": 20,
   "id": "83834627-4cb7-4d41-bfd2-8dc2bd2fedb6",
   "metadata": {},
   "outputs": [],
   "source": [
    "# # URL of the website\n",
    "# url = \"https://www.twblogs.net/api/list/?path=category&id=5b7a8bb62b7177392c9643c0&postoffset=5f051cae582aa9cf0b1b75b8\"\n",
    "# get_to_scrape_urls(url)\n"
   ]
  },
  {
   "cell_type": "code",
   "execution_count": 21,
   "id": "6db16793-9818-4c21-828b-1145b06cb609",
   "metadata": {
    "scrolled": true
   },
   "outputs": [],
   "source": [
    "# # URL of the website\n",
    "# url = \"https://www.twblogs.net/api/list/?path=category&id=5b7a8bb62b7177392c9643c0&postoffset=5f051cae582aa9cf0b1b75b8\"\n",
    "\n",
    "# # Send a GET request to the URL\n",
    "# response = requests.get(url)\n",
    "# soup = BeautifulSoup(response.content, \"html.parser\")\n",
    "# print (soup)"
   ]
  },
  {
   "cell_type": "code",
   "execution_count": 22,
   "id": "7cfe8a6d-141f-46b6-8f31-65cfae8a98e4",
   "metadata": {},
   "outputs": [],
   "source": [
    "#----------------------------------------\n",
    "# PART 1 : SCROLL DOWN PAGE VIA selenium\n",
    "#----------------------------------------"
   ]
  },
  {
   "cell_type": "code",
   "execution_count": 18,
   "id": "22958b53-87de-4fc9-a0b0-975d6790eb4e",
   "metadata": {},
   "outputs": [
    {
     "ename": "KeyboardInterrupt",
     "evalue": "",
     "output_type": "error",
     "traceback": [
      "\u001b[0;31m---------------------------------------------------------------------------\u001b[0m",
      "\u001b[0;31mKeyboardInterrupt\u001b[0m                         Traceback (most recent call last)",
      "Cell \u001b[0;32mIn[18], line 26\u001b[0m\n\u001b[1;32m     23\u001b[0m driver\u001b[38;5;241m.\u001b[39mexecute_script(\u001b[38;5;124m\"\u001b[39m\u001b[38;5;124mwindow.scrollTo(0, document.body.scrollHeight);\u001b[39m\u001b[38;5;124m\"\u001b[39m)\n\u001b[1;32m     25\u001b[0m \u001b[38;5;66;03m# Wait for some time to let the content load\u001b[39;00m\n\u001b[0;32m---> 26\u001b[0m \u001b[43mtime\u001b[49m\u001b[38;5;241;43m.\u001b[39;49m\u001b[43msleep\u001b[49m\u001b[43m(\u001b[49m\u001b[38;5;241;43m2\u001b[39;49m\u001b[43m)\u001b[49m\n\u001b[1;32m     28\u001b[0m \u001b[38;5;66;03m# Break the loop if no more content is loaded (adjust sleep time as needed)\u001b[39;00m\n\u001b[1;32m     29\u001b[0m \u001b[38;5;28;01mif\u001b[39;00m driver\u001b[38;5;241m.\u001b[39mexecute_script(\u001b[38;5;124m\"\u001b[39m\u001b[38;5;124mreturn window.innerHeight + window.scrollY\u001b[39m\u001b[38;5;124m\"\u001b[39m) \u001b[38;5;241m>\u001b[39m\u001b[38;5;241m=\u001b[39m driver\u001b[38;5;241m.\u001b[39mexecute_script(\u001b[38;5;124m\"\u001b[39m\u001b[38;5;124mreturn document.body.scrollHeight\u001b[39m\u001b[38;5;124m\"\u001b[39m):\n",
      "\u001b[0;31mKeyboardInterrupt\u001b[0m: "
     ]
    }
   ],
   "source": [
    "from selenium import webdriver\n",
    "from selenium.webdriver.common.keys import Keys\n",
    "import time\n",
    "\n",
    "# URL of the webpage to scroll down\n",
    "url = \"https://www.twblogs.net/c/5b7a8bb62b7177392c9643c0/\"\n",
    "\n",
    "# Path to chromedriver executable\n",
    "#chromedriver_path = \"/path/to/chromedriver\"\n",
    "\n",
    "# Initialize Chrome webdriver\n",
    "driver = webdriver.Chrome()\n",
    "\n",
    "# Open the webpage\n",
    "driver.get(url)\n",
    "\n",
    "# Wait for the page to load completely (adjust the sleep time as needed)\n",
    "time.sleep(5)\n",
    "\n",
    "# Scroll down to the bottom of the page\n",
    "while True:\n",
    "    # Scroll down using JavaScript\n",
    "    driver.execute_script(\"window.scrollTo(0, document.body.scrollHeight);\")\n",
    "    \n",
    "    # Wait for some time to let the content load\n",
    "    time.sleep(2)\n",
    "    \n",
    "    # Break the loop if no more content is loaded (adjust sleep time as needed)\n",
    "    if driver.execute_script(\"return window.innerHeight + window.scrollY\") >= driver.execute_script(\"return document.body.scrollHeight\"):\n",
    "        break\n",
    "\n",
    "# Find all the URLs on the page\n",
    "urls = driver.find_elements_by_xpath(\"//a[contains(@href, '/a/')]\")\n",
    "\n",
    "# Extract the href attribute from each element and store in a list\n",
    "url_list = [url.get_attribute(\"href\") for url in urls]\n",
    "\n",
    "# Print the list of URLs\n",
    "for url in url_list:\n",
    "    print(url)\n",
    "\n",
    "# Close the webdriver\n",
    "driver.quit()\n"
   ]
  }
 ],
 "metadata": {
  "kernelspec": {
   "display_name": "Python 3 (ipykernel)",
   "language": "python",
   "name": "python3"
  },
  "language_info": {
   "codemirror_mode": {
    "name": "ipython",
    "version": 3
   },
   "file_extension": ".py",
   "mimetype": "text/x-python",
   "name": "python",
   "nbconvert_exporter": "python",
   "pygments_lexer": "ipython3",
   "version": "3.9.6"
  }
 },
 "nbformat": 4,
 "nbformat_minor": 5
}
