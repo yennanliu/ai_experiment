{
  "nbformat": 4,
  "nbformat_minor": 0,
  "metadata": {
    "colab": {
      "provenance": []
    },
    "kernelspec": {
      "name": "python3",
      "display_name": "Python 3"
    },
    "language_info": {
      "name": "python"
    }
  },
  "cells": [
    {
      "cell_type": "code",
      "execution_count": 4,
      "metadata": {
        "id": "zS__JGNmqsOD"
      },
      "outputs": [],
      "source": [
        "import os\n",
        "from openai import OpenAI\n"
      ]
    },
    {
      "cell_type": "code",
      "source": [
        "openai_key = \"\"\n",
        "#openai.api_key = openai_key"
      ],
      "metadata": {
        "id": "G2hjY6uMqz7t"
      },
      "execution_count": 5,
      "outputs": []
    },
    {
      "cell_type": "code",
      "source": [
        "# import os\n",
        "# from openai import OpenAI\n",
        "\n",
        "# Use your API key here\n",
        "client = OpenAI(api_key=openai_key)  # or use environment variable\n",
        "\n",
        "try:\n",
        "    response = client.chat.completions.create(\n",
        "        model=\"gpt-3.5-turbo\",  # or \"gpt-3.5-turbo\"\n",
        "        messages=[\n",
        "            {\"role\": \"user\", \"content\": \"Reply with: Test successful\"}\n",
        "        ],\n",
        "        temperature=0.5\n",
        "    )\n",
        "    print(\"API call successful!\")\n",
        "    print(\"Response:\", response.choices[0].message.content)\n",
        "except Exception as e:\n",
        "    print(\"API call failed.\")\n",
        "    print(\"Error:\", e)"
      ],
      "metadata": {
        "colab": {
          "base_uri": "https://localhost:8080/"
        },
        "id": "VHe8fVwJqxWW",
        "outputId": "0ca35ee6-0431-4df4-f937-fcb1a3c39409"
      },
      "execution_count": 7,
      "outputs": [
        {
          "output_type": "stream",
          "name": "stdout",
          "text": [
            "API call failed.\n",
            "Error: Error code: 429 - {'error': {'message': 'You exceeded your current quota, please check your plan and billing details. For more information on this error, read the docs: https://platform.openai.com/docs/guides/error-codes/api-errors.', 'type': 'insufficient_quota', 'param': None, 'code': 'insufficient_quota'}}\n"
          ]
        }
      ]
    }
  ]
}