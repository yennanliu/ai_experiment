{
  "nbformat": 4,
  "nbformat_minor": 0,
  "metadata": {
    "colab": {
      "provenance": []
    },
    "kernelspec": {
      "name": "python3",
      "display_name": "Python 3"
    },
    "language_info": {
      "name": "python"
    }
  },
  "cells": [
    {
      "cell_type": "code",
      "execution_count": 11,
      "metadata": {
        "id": "5K0PnBFqmKYa"
      },
      "outputs": [],
      "source": [
        "import os\n",
        "from openai import OpenAI"
      ]
    },
    {
      "cell_type": "code",
      "source": [
        "OPEN_KEY_API=\"\""
      ],
      "metadata": {
        "id": "AvEC5V06mf1C"
      },
      "execution_count": 3,
      "outputs": []
    },
    {
      "cell_type": "code",
      "source": [
        "#os.environ[\"OPENAI_API_KEY\"] = \"sk-xxxxxxx\"\n",
        "#print(\"OPENAI_API_KEY = \" + str(OPEN_KEY_API))"
      ],
      "metadata": {
        "id": "WA1l1b2AmO3G"
      },
      "execution_count": 16,
      "outputs": []
    },
    {
      "cell_type": "code",
      "source": [
        "client = OpenAI(api_key=OPEN_KEY_API)\n",
        "\n",
        "try:\n",
        "    # Make a simple test request\n",
        "    response = client.chat.completions.create(\n",
        "        model=\"gpt-4\",\n",
        "        messages=[\n",
        "            {\"role\": \"system\", \"content\": \"You are a helpful assistant.\"},\n",
        "            {\"role\": \"user\", \"content\": \"Say 'Hello, API is working!'\"},\n",
        "        ],\n",
        "    )\n",
        "    print(\"✅ API key is valid!\")\n",
        "    print(\"Response:\", response.choices[0].message.content)\n",
        "\n",
        "except Exception as e:\n",
        "    print(\"❌ API key test failed.\")\n",
        "    print(\"Error:\", str(e))"
      ],
      "metadata": {
        "colab": {
          "base_uri": "https://localhost:8080/"
        },
        "id": "jVp-p_y5mTR4",
        "outputId": "b62cda21-7d1c-4524-c2c9-19dbd025516b"
      },
      "execution_count": 14,
      "outputs": [
        {
          "output_type": "stream",
          "name": "stdout",
          "text": [
            "✅ API key is valid!\n",
            "Response: Hello, API is working!\n"
          ]
        }
      ]
    },
    {
      "cell_type": "code",
      "source": [],
      "metadata": {
        "id": "PN1l3p56oAr7"
      },
      "execution_count": null,
      "outputs": []
    },
    {
      "cell_type": "code",
      "source": [],
      "metadata": {
        "id": "4aF7v_FGoAuf"
      },
      "execution_count": null,
      "outputs": []
    },
    {
      "cell_type": "code",
      "source": [
        "response = client.chat.completions.create(\n",
        "    model=\"gpt-4\",\n",
        "    messages=[\n",
        "        {\"role\": \"system\", \"content\": \"You are a creative story writer.\"},\n",
        "        {\"role\": \"user\", \"content\": \"Write a 2-sentence sci-fi story about a robot cat.\"},\n",
        "    ],\n",
        ")\n",
        "print(\"Story:\", response.choices[0].message.content)"
      ],
      "metadata": {
        "colab": {
          "base_uri": "https://localhost:8080/"
        },
        "id": "WS7bazSToA1i",
        "outputId": "591ff468-def7-4510-8432-1a66df354a4a"
      },
      "execution_count": 15,
      "outputs": [
        {
          "output_type": "stream",
          "name": "stdout",
          "text": [
            "Story: In a post-apocalyptic world where only machines were left, a robot cat named Whiskers was roaming the desolate cities, programmed with one mission - to find any existing traces of human life. One day, amid the eerie silence, Whiskers suddenly perked up, its sophisticated sensors picking up a baby's cries from the rubble, pricking the world's last hope of repopulating human civilization.\n"
          ]
        }
      ]
    },
    {
      "cell_type": "code",
      "source": [
        "response = client.chat.completions.create(\n",
        "    model=\"gpt-4\",\n",
        "    messages=[\n",
        "        {\"role\": \"user\", \"content\": \"If a train travels 60 km/h for 1.5 hours, how far does it go? Show steps.\"},\n",
        "    ],\n",
        ")\n",
        "print(\"Calculation:\", response.choices[0].message.content)"
      ],
      "metadata": {
        "colab": {
          "base_uri": "https://localhost:8080/"
        },
        "id": "gjEQSbF8oI7y",
        "outputId": "de082967-dea2-40c9-8712-237a78dbfb36"
      },
      "execution_count": 17,
      "outputs": [
        {
          "output_type": "stream",
          "name": "stdout",
          "text": [
            "Calculation: Step 1: Identify the values.\n",
            "- Speed (s) = 60 km/h\n",
            "- Time (t) = 1.5 hours \n",
            "\n",
            "Step 2: Distance (d) is calculated as speed (s) multiplied by time (t). Therefore, the formula for calculating distance is:\n",
            "\n",
            "- Distance (d) = speed (s) x time (t)\n",
            "\n",
            "Step 3: Substitute the values of speed (s) = 60 km/h and time (t) = 1.5 hours.\n",
            "\n",
            "- d = 60 km/h x 1.5 h\n",
            "\n",
            "Step 4: Do the multiplication to find the distance.\n",
            "\n",
            "- d = 90 km\n",
            "\n",
            "So, if a train travels at 60 km/h for 1.5 hours, it will have traveled a distance of 90 km.\n"
          ]
        }
      ]
    },
    {
      "cell_type": "code",
      "source": [
        "messages = [\n",
        "    {\"role\": \"system\", \"content\": \"You are a friendly chatbot.\"},\n",
        "    {\"role\": \"user\", \"content\": \"Hi!\"},\n",
        "    {\"role\": \"assistant\", \"content\": \"Hello there 👋\"},\n",
        "    {\"role\": \"user\", \"content\": \"Can you tell me a fun fact about space?\"},\n",
        "]\n",
        "\n",
        "response = client.chat.completions.create(\n",
        "    model=\"gpt-4\",\n",
        "    messages=messages,\n",
        ")\n",
        "print(\"Fun fact:\", response.choices[0].message.content)"
      ],
      "metadata": {
        "colab": {
          "base_uri": "https://localhost:8080/"
        },
        "id": "vELt94pAoQ_p",
        "outputId": "4a23c4a2-1ec3-47d1-d0ba-aa9c63464eb1"
      },
      "execution_count": 18,
      "outputs": [
        {
          "output_type": "stream",
          "name": "stdout",
          "text": [
            "Fun fact: Of course! Did you know that a day on Venus is longer than a year on Venus? That's right, it takes longer for Venus to do one complete rotation on its axis than it does for it to orbit the Sun. Isn't space fascinating?\n"
          ]
        }
      ]
    },
    {
      "cell_type": "code",
      "source": [
        "try:\n",
        "    prompt = \"\"\"\n",
        "Solve LeetCode 1: Two Sum in Python.\n",
        "\n",
        "Requirements:\n",
        "- Write clean and efficient code\n",
        "- Include a short explanation of the approach\n",
        "- Return only valid Python code in a code block followed by explanation\n",
        "\"\"\"\n",
        "\n",
        "    response = client.chat.completions.create(\n",
        "        model=\"gpt-4\",\n",
        "        messages=[\n",
        "            {\"role\": \"system\", \"content\": \"You are a senior software engineer.\"},\n",
        "            {\"role\": \"user\", \"content\": prompt},\n",
        "        ],\n",
        "        temperature=0.2,  # deterministic, good for coding tasks\n",
        "    )\n",
        "\n",
        "    print(\"✅ API key is working. Model responded with:\")\n",
        "    print(response.choices[0].message.content)\n",
        "\n",
        "except Exception as e:\n",
        "    print(\"❌ API key test failed.\")\n",
        "    print(\"Error:\", str(e))"
      ],
      "metadata": {
        "colab": {
          "base_uri": "https://localhost:8080/"
        },
        "id": "qMPNE9JcoI-u",
        "outputId": "c1efe250-e7fc-4f2f-a60b-510c1adbf380"
      },
      "execution_count": 19,
      "outputs": [
        {
          "output_type": "stream",
          "name": "stdout",
          "text": [
            "✅ API key is working. Model responded with:\n",
            "Sure, here is the Python solution for the LeetCode problem 1: Two Sum.\n",
            "\n",
            "```python\n",
            "def twoSum(nums, target):\n",
            "    hashmap = {}\n",
            "    for i, num in enumerate(nums):\n",
            "        complement = target - num\n",
            "        if complement in hashmap:\n",
            "            return [hashmap[complement], i]\n",
            "        hashmap[num] = i\n",
            "    return []\n",
            "```\n",
            "\n",
            "Explanation:\n",
            "\n",
            "The problem is asking to find two numbers such that they add up to a specific target. We can always brute force through each element `x` and find if there is another value that equals to `target - x`. But this approach would take O(n^2). To improve it, we can use a hash map that reduces the look up time from O(n) to O(1).\n",
            "\n",
            "We iterate through the array, for each element we try to find its complement (target - current_element) in the hash map. If it's found, we return the indices of the current element and its complement. If it's not found, we store the element with its index in the hash map.\n",
            "\n",
            "This approach takes O(n) time as we do a single pass through the array, and O(n) space as in the worst case, we would need to store every element in the hash map.\n"
          ]
        }
      ]
    },
    {
      "cell_type": "code",
      "source": [
        "try:\n",
        "    prompt = \"\"\"\n",
        "Solve LeetCode 1: Two Sum\n",
        "\n",
        "Requirements:\n",
        "- solve the problem in 3 different programming launguage : Typescript, Go, C++.\n",
        "- Write clean and efficient code\n",
        "- Include a short explanation of the approach\n",
        "- Return only valid Python code in a code block followed by explanation\n",
        "\"\"\"\n",
        "\n",
        "    response = client.chat.completions.create(\n",
        "        model=\"gpt-4\",\n",
        "        messages=[\n",
        "            {\"role\": \"system\", \"content\": \"You are a senior software engineer.\"},\n",
        "            {\"role\": \"user\", \"content\": prompt},\n",
        "        ],\n",
        "        temperature=0.2,  # deterministic, good for coding tasks\n",
        "    )\n",
        "\n",
        "    print(\"✅ API key is working. Model responded with:\")\n",
        "    print(response.choices[0].message.content)\n",
        "\n",
        "except Exception as e:\n",
        "    print(\"❌ API key test failed.\")\n",
        "    print(\"Error:\", str(e))"
      ],
      "metadata": {
        "colab": {
          "base_uri": "https://localhost:8080/"
        },
        "id": "wRG6L_gOoJBO",
        "outputId": "5f2196f9-6034-4e30-a550-5dda96acabcf"
      },
      "execution_count": 20,
      "outputs": [
        {
          "output_type": "stream",
          "name": "stdout",
          "text": [
            "✅ API key is working. Model responded with:\n",
            "The problem is to find two numbers in an array that add up to a specific target number. We can solve this problem by using a hash map (also known as a dictionary in Python, or an object in JavaScript). We iterate over each element in the array, and for each element, we check if the difference between the target and the current element exists in the hash map. If it does, we return the indices of the two numbers. If it doesn't, we add the current number and its index to the hash map.\n",
            "\n",
            "Here are the solutions in Typescript, Go, and C++:\n",
            "\n",
            "Typescript:\n",
            "```typescript\n",
            "function twoSum(nums: number[], target: number): number[] {\n",
            "    let map = new Map();\n",
            "    for (let i = 0; i < nums.length; i++) {\n",
            "        let complement = target - nums[i];\n",
            "        if (map.has(complement)) {\n",
            "            return [map.get(complement), i];\n",
            "        }\n",
            "        map.set(nums[i], i);\n",
            "    }\n",
            "    return [];\n",
            "}\n",
            "```\n",
            "\n",
            "Go:\n",
            "```go\n",
            "func twoSum(nums []int, target int) []int {\n",
            "    m := make(map[int]int)\n",
            "    for i, num := range nums {\n",
            "        complement := target - num\n",
            "        if val, ok := m[complement]; ok {\n",
            "            return []int{val, i}\n",
            "        }\n",
            "        m[num] = i\n",
            "    }\n",
            "    return []int{}\n",
            "}\n",
            "```\n",
            "\n",
            "C++:\n",
            "```cpp\n",
            "vector<int> twoSum(vector<int>& nums, int target) {\n",
            "    unordered_map<int, int> m;\n",
            "    for (int i = 0; i < nums.size(); i++) {\n",
            "        int complement = target - nums[i];\n",
            "        if (m.count(complement)) {\n",
            "            return {m[complement], i};\n",
            "        }\n",
            "        m[nums[i]] = i;\n",
            "    }\n",
            "    return {};\n",
            "}\n",
            "```\n",
            "\n",
            "In all three solutions, we use a hash map to store the numbers and their indices. We iterate over the array, and for each number, we calculate the complement (the difference between the target and the current number). If the complement exists in the hash map, we return the indices of the complement and the current number. If it doesn't exist, we add the current number and its index to the hash map. The time complexity of these solutions is O(n), where n is the length of the array, because we do a single pass through the array. The space complexity is also O(n), because in the worst case, we have to store every number in the hash map.\n"
          ]
        }
      ]
    }
  ]
}